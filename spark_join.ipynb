{
 "cells": [
  {
   "cell_type": "code",
   "execution_count": 1,
   "id": "4d0124f1",
   "metadata": {},
   "outputs": [],
   "source": [
    "from pyspark.sql import SparkSession\n",
    "import getpass\n",
    "username=getpass.getuser()\n",
    "spark=SparkSession.\\\n",
    "    builder.\\\n",
    "    config('spark.ui.port','0').\\\n",
    "    config(\"spark.sql.warehouse.dir\",f\"/user/{username}/warehouse\").\\\n",
    "    enableHiveSupport().\\\n",
    "    master('yarn').\\\n",
    "    getOrCreate()"
   ]
  },
  {
   "cell_type": "code",
   "execution_count": 3,
   "id": "2a6a2409",
   "metadata": {},
   "outputs": [],
   "source": [
    "order_base = spark.sparkContext.textFile(\"source_file_path_for orderfile\") "
   ]
  },
  {
   "cell_type": "code",
   "execution_count": 5,
   "id": "55b573a0",
   "metadata": {},
   "outputs": [],
   "source": [
    "orders_mapped = order_base.map(lambda x: (x.split(\",\")[3],x.split(\",\")[2]))"
   ]
  },
  {
   "cell_type": "code",
   "execution_count": 6,
   "id": "83681e91",
   "metadata": {},
   "outputs": [],
   "source": [
    "customer_base = spark.sparkContext.textFile(\"source_file_path_for_customerfile\")"
   ]
  },
  {
   "cell_type": "code",
   "execution_count": 7,
   "id": "f8b3c87f",
   "metadata": {},
   "outputs": [],
   "source": [
    "customer_map = customer_base.map(lambda x: (x.split(\",\")[0],x.split(\",\")[8]))"
   ]
  },
  {
   "cell_type": "code",
   "execution_count": 9,
   "id": "2c1a87ad",
   "metadata": {},
   "outputs": [],
   "source": [
    "join_rdd = customer_map.join(orders_mapped)"
   ]
  },
  {
   "cell_type": "code",
   "execution_count": 10,
   "id": "a844c078",
   "metadata": {},
   "outputs": [],
   "source": [
    "join_rdd.saveAsTextFile(\"destination_file_path\")"
   ]
  },
  {
   "cell_type": "code",
   "execution_count": 11,
   "id": "9cb0d593",
   "metadata": {},
   "outputs": [
    {
     "data": {
      "text/plain": [
       "<bound method SparkSession.stop of <pyspark.sql.session.SparkSession object at 0x7fb69f5e5240>>"
      ]
     },
     "execution_count": 11,
     "metadata": {},
     "output_type": "execute_result"
    }
   ],
   "source": [
    "spark.stop"
   ]
  },
  {
   "cell_type": "code",
   "execution_count": null,
   "id": "b9a95611",
   "metadata": {},
   "outputs": [],
   "source": []
  }
 ],
 "metadata": {
  "kernelspec": {
   "display_name": "Pyspark 3",
   "language": "python",
   "name": "pyspark3"
  },
  "language_info": {
   "codemirror_mode": {
    "name": "ipython",
    "version": 3
   },
   "file_extension": ".py",
   "mimetype": "text/x-python",
   "name": "python",
   "nbconvert_exporter": "python",
   "pygments_lexer": "ipython3",
   "version": "3.6.12"
  }
 },
 "nbformat": 4,
 "nbformat_minor": 5
}
