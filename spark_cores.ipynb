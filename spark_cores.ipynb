{
 "cells": [
  {
   "cell_type": "code",
   "execution_count": 1,
   "id": "13d00d24",
   "metadata": {},
   "outputs": [],
   "source": [
    "\n",
    "from pyspark.sql import SparkSession\n",
    "import getpass\n",
    "username=getpass.getuser()\n",
    "spark=SparkSession.\\\n",
    "    builder.\\\n",
    "    config('spark.ui.port','0').\\\n",
    "    config(\"spark.sql.warehouse.dir\",f\"/user/{username}/warehouse\").\\\n",
    "    enableHiveSupport().\\\n",
    "    master('yarn').\\\n",
    "    getOrCreate()"
   ]
  },
  {
   "cell_type": "code",
   "execution_count": 3,
   "id": "b33a8e44",
   "metadata": {},
   "outputs": [],
   "source": [
    "words = (\"big\", \"data\", \"SUPER\", \"BIG\",\"Data\", \"IS\",\"A\",\"Trending\", \"technology\")"
   ]
  },
  {
   "cell_type": "code",
   "execution_count": 4,
   "id": "d2dda7f2",
   "metadata": {},
   "outputs": [],
   "source": [
    "word_rdd = spark.sparkContext.parallelize(words)"
   ]
  },
  {
   "cell_type": "code",
   "execution_count": 5,
   "id": "903ed401",
   "metadata": {},
   "outputs": [
    {
     "data": {
      "text/plain": [
       "['big', 'data', 'SUPER', 'BIG']"
      ]
     },
     "execution_count": 5,
     "metadata": {},
     "output_type": "execute_result"
    }
   ],
   "source": [
    "word_rdd.take(4)"
   ]
  },
  {
   "cell_type": "code",
   "execution_count": 8,
   "id": "5b64be3f",
   "metadata": {},
   "outputs": [],
   "source": [
    "word_normal = word_rdd.map(lambda x:x.lower())"
   ]
  },
  {
   "cell_type": "code",
   "execution_count": 9,
   "id": "3024231a",
   "metadata": {},
   "outputs": [
    {
     "data": {
      "text/plain": [
       "['big', 'data', 'super', 'big', 'data', 'is', 'a', 'trending', 'technology']"
      ]
     },
     "execution_count": 9,
     "metadata": {},
     "output_type": "execute_result"
    }
   ],
   "source": [
    "word_normal.collect()"
   ]
  },
  {
   "cell_type": "code",
   "execution_count": 10,
   "id": "2e3d909b",
   "metadata": {},
   "outputs": [],
   "source": [
    "mapped_words = word_normal.map(lambda x : (x,1))"
   ]
  },
  {
   "cell_type": "code",
   "execution_count": 11,
   "id": "fbb21baf",
   "metadata": {},
   "outputs": [],
   "source": [
    "agg_word = mapped_words.reduceByKey(lambda x,y : x+y)"
   ]
  },
  {
   "cell_type": "code",
   "execution_count": 12,
   "id": "41b20185",
   "metadata": {},
   "outputs": [
    {
     "data": {
      "text/plain": [
       "[('super', 1),\n",
       " ('is', 1),\n",
       " ('trending', 1),\n",
       " ('technology', 1),\n",
       " ('data', 2),\n",
       " ('a', 1),\n",
       " ('big', 2)]"
      ]
     },
     "execution_count": 12,
     "metadata": {},
     "output_type": "execute_result"
    }
   ],
   "source": [
    "agg_word.collect()"
   ]
  },
  {
   "cell_type": "code",
   "execution_count": 14,
   "id": "4931d4cd",
   "metadata": {},
   "outputs": [],
   "source": [
    "#alternative or chainup methods\n",
    "result = spark.\\\n",
    "sparkContext.\\\n",
    "parallelize(words).\\\n",
    "map(lambda x:x.lower()).\\\n",
    "map(lambda x : (x,1)).\\\n",
    "reduceByKey(lambda x,y : x+y)"
   ]
  },
  {
   "cell_type": "code",
   "execution_count": 15,
   "id": "cbc6a307",
   "metadata": {},
   "outputs": [
    {
     "data": {
      "text/plain": [
       "[('is', 1),\n",
       " ('trending', 1),\n",
       " ('technology', 1),\n",
       " ('super', 1),\n",
       " ('big', 2),\n",
       " ('data', 2),\n",
       " ('a', 1)]"
      ]
     },
     "execution_count": 15,
     "metadata": {},
     "output_type": "execute_result"
    }
   ],
   "source": [
    "result.collect()"
   ]
  },
  {
   "cell_type": "code",
   "execution_count": null,
   "id": "c8b50a60",
   "metadata": {},
   "outputs": [],
   "source": []
  }
 ],
 "metadata": {
  "kernelspec": {
   "display_name": "Pyspark 3",
   "language": "python",
   "name": "pyspark3"
  },
  "language_info": {
   "codemirror_mode": {
    "name": "ipython",
    "version": 3
   },
   "file_extension": ".py",
   "mimetype": "text/x-python",
   "name": "python",
   "nbconvert_exporter": "python",
   "pygments_lexer": "ipython3",
   "version": "3.6.12"
  }
 },
 "nbformat": 4,
 "nbformat_minor": 5
}
