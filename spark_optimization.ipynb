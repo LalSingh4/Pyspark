{
 "cells": [
  {
   "cell_type": "code",
   "execution_count": 2,
   "id": "8a4cd46b",
   "metadata": {},
   "outputs": [],
   "source": [
    "from pyspark.sql import SparkSession\n",
    "import getpass\n",
    "username=getpass.getuser()\n",
    "spark=SparkSession.\\\n",
    "    builder.\\\n",
    "    config('spark.shuffle.useOldFetchProtocol','true'). \\\n",
    "    config(\"spark.sql.warehouse.dir\",f\"/user/{username}/warehouse\").\\\n",
    "    enableHiveSupport().\\\n",
    "    master('yarn').\\\n",
    "    getOrCreate()"
   ]
  },
  {
   "cell_type": "code",
   "execution_count": 22,
   "id": "b514a8bb",
   "metadata": {},
   "outputs": [],
   "source": [
    "order_schema = 'order_id long, order_date string, customer_id long, order_status string'"
   ]
  },
  {
   "cell_type": "code",
   "execution_count": 3,
   "id": "4f96e711",
   "metadata": {},
   "outputs": [],
   "source": [
    "order_df = spark.read \\\n",
    ".format(\"csv\") \\\n",
    ".schema(order_schema) \\\n",
    ".load(\"source_file_path\")"
   ]
  },
  {
   "cell_type": "code",
   "execution_count": 4,
   "id": "5bd42fa7",
   "metadata": {},
   "outputs": [
    {
     "name": "stdout",
     "output_type": "stream",
     "text": [
      "+--------+--------------------+-----------+---------------+\n",
      "|order_id|          order_date|customer_id|   order_status|\n",
      "+--------+--------------------+-----------+---------------+\n",
      "|       1|2013-07-25 00:00:...|      11599|         CLOSED|\n",
      "|       2|2013-07-25 00:00:...|        256|PENDING_PAYMENT|\n",
      "|       3|2013-07-25 00:00:...|      12111|       COMPLETE|\n",
      "|       4|2013-07-25 00:00:...|       8827|         CLOSED|\n",
      "|       5|2013-07-25 00:00:...|      11318|       COMPLETE|\n",
      "|       6|2013-07-25 00:00:...|       7130|       COMPLETE|\n",
      "|       7|2013-07-25 00:00:...|       4530|       COMPLETE|\n",
      "|       8|2013-07-25 00:00:...|       2911|     PROCESSING|\n",
      "|       9|2013-07-25 00:00:...|       5657|PENDING_PAYMENT|\n",
      "|      10|2013-07-25 00:00:...|       5648|PENDING_PAYMENT|\n",
      "|      11|2013-07-25 00:00:...|        918| PAYMENT_REVIEW|\n",
      "|      12|2013-07-25 00:00:...|       1837|         CLOSED|\n",
      "|      13|2013-07-25 00:00:...|       9149|PENDING_PAYMENT|\n",
      "|      14|2013-07-25 00:00:...|       9842|     PROCESSING|\n",
      "|      15|2013-07-25 00:00:...|       2568|       COMPLETE|\n",
      "|      16|2013-07-25 00:00:...|       7276|PENDING_PAYMENT|\n",
      "|      17|2013-07-25 00:00:...|       2667|       COMPLETE|\n",
      "|      18|2013-07-25 00:00:...|       1205|         CLOSED|\n",
      "|      19|2013-07-25 00:00:...|       9488|PENDING_PAYMENT|\n",
      "|      20|2013-07-25 00:00:...|       9198|     PROCESSING|\n",
      "+--------+--------------------+-----------+---------------+\n",
      "only showing top 20 rows\n",
      "\n"
     ]
    }
   ],
   "source": [
    "order_df.show()"
   ]
  },
  {
   "cell_type": "code",
   "execution_count": 29,
   "id": "b833559b",
   "metadata": {},
   "outputs": [
    {
     "data": {
      "text/plain": [
       "9"
      ]
     },
     "execution_count": 29,
     "metadata": {},
     "output_type": "execute_result"
    }
   ],
   "source": [
    "order_df.rdd.getNumPartitions()"
   ]
  },
  {
   "cell_type": "code",
   "execution_count": 30,
   "id": "f4a8b978",
   "metadata": {},
   "outputs": [
    {
     "data": {
      "text/html": [
       "<table border='1'>\n",
       "<tr><th>order_status</th><th>count</th></tr>\n",
       "<tr><td>PENDING_PAYMENT</td><td>5636250</td></tr>\n",
       "<tr><td>COMPLETE</td><td>8587125</td></tr>\n",
       "<tr><td>ON_HOLD</td><td>1424250</td></tr>\n",
       "<tr><td>PAYMENT_REVIEW</td><td>273375</td></tr>\n",
       "<tr><td>PROCESSING</td><td>3103125</td></tr>\n",
       "<tr><td>CLOSED</td><td>2833500</td></tr>\n",
       "<tr><td>SUSPECTED_FRAUD</td><td>584250</td></tr>\n",
       "<tr><td>PENDING</td><td>2853750</td></tr>\n",
       "<tr><td>CANCELED</td><td>535500</td></tr>\n",
       "</table>\n"
      ],
      "text/plain": [
       "+---------------+-------+\n",
       "|   order_status|  count|\n",
       "+---------------+-------+\n",
       "|PENDING_PAYMENT|5636250|\n",
       "|       COMPLETE|8587125|\n",
       "|        ON_HOLD|1424250|\n",
       "| PAYMENT_REVIEW| 273375|\n",
       "|     PROCESSING|3103125|\n",
       "|         CLOSED|2833500|\n",
       "|SUSPECTED_FRAUD| 584250|\n",
       "|        PENDING|2853750|\n",
       "|       CANCELED| 535500|\n",
       "+---------------+-------+"
      ]
     },
     "execution_count": 30,
     "metadata": {},
     "output_type": "execute_result"
    }
   ],
   "source": [
    "order_df.groupBy(\"order_status\").count()"
   ]
  },
  {
   "cell_type": "code",
   "execution_count": 54,
   "id": "5f8b1912",
   "metadata": {},
   "outputs": [],
   "source": [
    "customer_schema = \"customer_id long, customer_fname string, customer_lname string, username string, password string, address string, city string, state string,pincode long\""
   ]
  },
  {
   "cell_type": "code",
   "execution_count": 32,
   "id": "eacc8d61",
   "metadata": {},
   "outputs": [],
   "source": [
    "customer_df = spark.read \\\n",
    ".format(\"csv\") \\\n",
    ".schema(customer_schema) \\\n",
    ".load(\"source_file_path\")"
   ]
  },
  {
   "cell_type": "code",
   "execution_count": 33,
   "id": "273e3f4d",
   "metadata": {},
   "outputs": [
    {
     "name": "stdout",
     "output_type": "stream",
     "text": [
      "+-----------+--------------+--------------+---------+---------+--------------------+-----------+-----+-------+\n",
      "|customer_id|customer_fname|customer_lname| username| password|             address|       city|state|pincode|\n",
      "+-----------+--------------+--------------+---------+---------+--------------------+-----------+-----+-------+\n",
      "|          1|       Richard|     Hernandez|XXXXXXXXX|XXXXXXXXX|  6303 Heather Plaza|Brownsville|   TX|  78521|\n",
      "|          2|          Mary|       Barrett|XXXXXXXXX|XXXXXXXXX|9526 Noble Embers...|  Littleton|   CO|  80126|\n",
      "|          3|           Ann|         Smith|XXXXXXXXX|XXXXXXXXX|3422 Blue Pioneer...|     Caguas|   PR|    725|\n",
      "|          4|          Mary|         Jones|XXXXXXXXX|XXXXXXXXX|  8324 Little Common| San Marcos|   CA|  92069|\n",
      "|          5|        Robert|        Hudson|XXXXXXXXX|XXXXXXXXX|10 Crystal River ...|     Caguas|   PR|    725|\n",
      "+-----------+--------------+--------------+---------+---------+--------------------+-----------+-----+-------+\n",
      "only showing top 5 rows\n",
      "\n"
     ]
    }
   ],
   "source": [
    "customer_df.show(5)"
   ]
  },
  {
   "cell_type": "code",
   "execution_count": 34,
   "id": "669f501b",
   "metadata": {},
   "outputs": [
    {
     "data": {
      "text/plain": [
       "'10485760b'"
      ]
     },
     "execution_count": 34,
     "metadata": {},
     "output_type": "execute_result"
    }
   ],
   "source": [
    "spark.conf.get('spark.sql.autoBroadcastJoinThreshold')"
   ]
  },
  {
   "cell_type": "code",
   "execution_count": 35,
   "id": "a3686083",
   "metadata": {},
   "outputs": [],
   "source": [
    "spark.conf.set('spark.sql.autoBroadcastJoinThreshold','-1')"
   ]
  },
  {
   "cell_type": "code",
   "execution_count": 36,
   "id": "76c94ca7",
   "metadata": {},
   "outputs": [],
   "source": [
    "order_df.join(customer_df, order_df.customer_id == customer_df.customer_id, \"inner\").write.format(\"noop\").mode(\"overwrite\").save()"
   ]
  },
  {
   "cell_type": "markdown",
   "id": "91758c2d",
   "metadata": {},
   "source": [
    "##broadcast Join"
   ]
  },
  {
   "cell_type": "code",
   "execution_count": 37,
   "id": "6d2ec6c0",
   "metadata": {},
   "outputs": [],
   "source": [
    "spark.conf.set('spark.sql.autoBroadcastJoinThreshold','10485760b')"
   ]
  },
  {
   "cell_type": "code",
   "execution_count": 38,
   "id": "7ce2df92",
   "metadata": {},
   "outputs": [],
   "source": [
    "order_df.join(customer_df, order_df.customer_id == customer_df.customer_id, \"inner\").write.format(\"noop\").mode(\"overwrite\").save()"
   ]
  },
  {
   "cell_type": "code",
   "execution_count": 39,
   "id": "c8760ce2",
   "metadata": {},
   "outputs": [],
   "source": [
    "order_df.join(customer_df, order_df.customer_id == customer_df.customer_id, \"left\").write.format(\"noop\").mode(\"overwrite\").save()"
   ]
  },
  {
   "cell_type": "code",
   "execution_count": 25,
   "id": "29cc8e54",
   "metadata": {},
   "outputs": [],
   "source": []
  },
  {
   "cell_type": "markdown",
   "id": "b9063fac",
   "metadata": {},
   "source": [
    "## partition skew"
   ]
  },
  {
   "cell_type": "code",
   "execution_count": 40,
   "id": "21d31d8a",
   "metadata": {},
   "outputs": [],
   "source": [
    "order_new_df = spark.read \\\n",
    ".format(\"csv\") \\\n",
    ".schema(order_schema) \\\n",
    ".load(\"source_file_path\")"
   ]
  },
  {
   "cell_type": "code",
   "execution_count": 41,
   "id": "12a86a73",
   "metadata": {},
   "outputs": [
    {
     "data": {
      "text/plain": [
       "[Row(order_status='PENDING_PAYMENT', count=5636250),\n",
       " Row(order_status='COMPLETE', count=46008801),\n",
       " Row(order_status='ON_HOLD', count=1424250),\n",
       " Row(order_status='PAYMENT_REVIEW', count=273375),\n",
       " Row(order_status='PROCESSING', count=3103125),\n",
       " Row(order_status='CLOSED', count=2833500),\n",
       " Row(order_status='SUSPECTED_FRAUD', count=584250),\n",
       " Row(order_status='PENDING', count=2853750),\n",
       " Row(order_status='CANCELED', count=535500)]"
      ]
     },
     "execution_count": 41,
     "metadata": {},
     "output_type": "execute_result"
    }
   ],
   "source": [
    "order_new_df.groupBy(\"order_status\").count().collect()"
   ]
  },
  {
   "cell_type": "code",
   "execution_count": 55,
   "id": "88a303c8",
   "metadata": {},
   "outputs": [],
   "source": [
    "customer_new_df = spark.read \\\n",
    ".format(\"csv\") \\\n",
    ".schema(customer_schema) \\\n",
    ".load(\"source_file_path\")"
   ]
  },
  {
   "cell_type": "code",
   "execution_count": 44,
   "id": "a8a7f22b",
   "metadata": {},
   "outputs": [
    {
     "name": "stdout",
     "output_type": "stream",
     "text": [
      "+-----------+--------------+--------------+---------+---------+--------------------+-----------+-----+-------+\n",
      "|customer_id|customer_fname|customer_lname| username| password|             address|       city|state|pincode|\n",
      "+-----------+--------------+--------------+---------+---------+--------------------+-----------+-----+-------+\n",
      "|          1|       Richard|     Hernandez|XXXXXXXXX|XXXXXXXXX|  6303 Heather Plaza|Brownsville|   TX|  78521|\n",
      "|          2|          Mary|       Barrett|XXXXXXXXX|XXXXXXXXX|9526 Noble Embers...|  Littleton|   CO|  80126|\n",
      "|          3|           Ann|         Smith|XXXXXXXXX|XXXXXXXXX|3422 Blue Pioneer...|     Caguas|   PR|    725|\n",
      "|          4|          Mary|         Jones|XXXXXXXXX|XXXXXXXXX|  8324 Little Common| San Marcos|   CA|  92069|\n",
      "|          5|        Robert|        Hudson|XXXXXXXXX|XXXXXXXXX|10 Crystal River ...|     Caguas|   PR|    725|\n",
      "|          6|          Mary|         Smith|XXXXXXXXX|XXXXXXXXX|3151 Sleepy Quail...|    Passaic|   NJ|   7055|\n",
      "+-----------+--------------+--------------+---------+---------+--------------------+-----------+-----+-------+\n",
      "only showing top 6 rows\n",
      "\n"
     ]
    }
   ],
   "source": [
    "customer_new_df.show(6)"
   ]
  },
  {
   "cell_type": "code",
   "execution_count": 56,
   "id": "619a74a2",
   "metadata": {},
   "outputs": [],
   "source": [
    "order_df.join(customer_new_df.distinct(), order_df.customer_id == customer_new_df.distinct().customer_id, \"inner\").write.format(\"noop\").mode(\"overwrite\").save()"
   ]
  },
  {
   "cell_type": "code",
   "execution_count": 6,
   "id": "0e44e962",
   "metadata": {},
   "outputs": [],
   "source": [
    "spark.stop()"
   ]
  },
  {
   "cell_type": "markdown",
   "id": "e8a510e6",
   "metadata": {},
   "source": [
    "## solving for 3 problem  is AQE"
   ]
  },
  {
   "cell_type": "code",
   "execution_count": 5,
   "id": "e7f59c06",
   "metadata": {},
   "outputs": [
    {
     "data": {
      "text/html": [
       "\n",
       "            <div>\n",
       "                <p><b>SparkSession - hive</b></p>\n",
       "                \n",
       "        <div>\n",
       "            <p><b>SparkContext</b></p>\n",
       "\n",
       "            <p><a href=\"http://g02.itversity.com:4041\">Spark UI</a></p>\n",
       "\n",
       "            <dl>\n",
       "              <dt>Version</dt>\n",
       "                <dd><code>v3.1.2</code></dd>\n",
       "              <dt>Master</dt>\n",
       "                <dd><code>yarn</code></dd>\n",
       "              <dt>AppName</dt>\n",
       "                <dd><code>pyspark-shell</code></dd>\n",
       "            </dl>\n",
       "        </div>\n",
       "        \n",
       "            </div>\n",
       "        "
      ],
      "text/plain": [
       "<pyspark.sql.session.SparkSession at 0x7f560b5a6b38>"
      ]
     },
     "execution_count": 5,
     "metadata": {},
     "output_type": "execute_result"
    }
   ],
   "source": [
    "spark"
   ]
  },
  {
   "cell_type": "markdown",
   "id": "7f2a3b3d",
   "metadata": {},
   "source": [
    "1 Coalesing"
   ]
  },
  {
   "cell_type": "code",
   "execution_count": 8,
   "id": "febc99b5",
   "metadata": {},
   "outputs": [],
   "source": [
    "order_schema = 'order_id long, order_date string, customer_id long, order_status string'"
   ]
  },
  {
   "cell_type": "code",
   "execution_count": 9,
   "id": "077633ff",
   "metadata": {},
   "outputs": [],
   "source": [
    "order_df = spark.read \\\n",
    ".format(\"csv\") \\\n",
    ".schema(order_schema) \\\n",
    ".load(\"source_file_path\")"
   ]
  },
  {
   "cell_type": "code",
   "execution_count": 19,
   "id": "bad1b1b5",
   "metadata": {},
   "outputs": [],
   "source": [
    "order_df.groupBy(\"order_status\").count().write.format(\"noop\").mode(\"overwrite\").save()"
   ]
  },
  {
   "cell_type": "code",
   "execution_count": 13,
   "id": "80ae9929",
   "metadata": {},
   "outputs": [
    {
     "data": {
      "text/plain": [
       "'false'"
      ]
     },
     "execution_count": 13,
     "metadata": {},
     "output_type": "execute_result"
    }
   ],
   "source": [
    "spark.conf.get(\"spark.sql.adaptive.enabled\")"
   ]
  },
  {
   "cell_type": "code",
   "execution_count": 47,
   "id": "fd042191",
   "metadata": {},
   "outputs": [],
   "source": [
    "spark.conf.set(\"spark.sql.adaptive.enabled\", True)"
   ]
  },
  {
   "cell_type": "code",
   "execution_count": 15,
   "id": "ca2a338e",
   "metadata": {},
   "outputs": [
    {
     "data": {
      "text/plain": [
       "'true'"
      ]
     },
     "execution_count": 15,
     "metadata": {},
     "output_type": "execute_result"
    }
   ],
   "source": [
    "spark.conf.get(\"spark.sql.adaptive.enabled\")"
   ]
  },
  {
   "cell_type": "markdown",
   "id": "0c9abdfd",
   "metadata": {},
   "source": [
    "2 handling partition skew"
   ]
  },
  {
   "cell_type": "code",
   "execution_count": 20,
   "id": "191e300c",
   "metadata": {},
   "outputs": [],
   "source": [
    "spark.stop()"
   ]
  },
  {
   "cell_type": "code",
   "execution_count": 38,
   "id": "8f688539",
   "metadata": {},
   "outputs": [],
   "source": [
    "order_schema = 'order_id long, order_date string, customer_id long, order_status string'"
   ]
  },
  {
   "cell_type": "code",
   "execution_count": 39,
   "id": "3fac608a",
   "metadata": {},
   "outputs": [],
   "source": [
    "order_new_df = spark.read \\\n",
    ".format(\"csv\") \\\n",
    ".schema(order_schema) \\\n",
    ".load(\"source_file_path\")"
   ]
  },
  {
   "cell_type": "code",
   "execution_count": 44,
   "id": "342a7c59",
   "metadata": {},
   "outputs": [
    {
     "name": "stdout",
     "output_type": "stream",
     "text": [
      "+--------+--------------------+-----------+------------+\n",
      "|order_id|          order_date|customer_id|order_status|\n",
      "+--------+--------------------+-----------+------------+\n",
      "|    2480|2013-08-07 00:00:...|       3807|    COMPLETE|\n",
      "|   30479|2014-01-30 00:00:...|       9265|    COMPLETE|\n",
      "|    2481|2013-08-07 00:00:...|       2476|    COMPLETE|\n",
      "+--------+--------------------+-----------+------------+\n",
      "only showing top 3 rows\n",
      "\n"
     ]
    }
   ],
   "source": [
    "order_new_df.show(3)"
   ]
  },
  {
   "cell_type": "code",
   "execution_count": 40,
   "id": "395455d8",
   "metadata": {},
   "outputs": [],
   "source": [
    "mapping_schema = \"status string, code int\""
   ]
  },
  {
   "cell_type": "code",
   "execution_count": 41,
   "id": "f9b2874b",
   "metadata": {},
   "outputs": [],
   "source": [
    "mapping_df = spark.read \\\n",
    ".format(\"csv\") \\\n",
    ".option(\"delimiter\",\"|\") \\\n",
    ".schema(mapping_schema) \\\n",
    ".load(\"source_file_path\")"
   ]
  },
  {
   "cell_type": "code",
   "execution_count": 45,
   "id": "578d3265",
   "metadata": {},
   "outputs": [
    {
     "name": "stdout",
     "output_type": "stream",
     "text": [
      "+---------------+----+\n",
      "|         status|code|\n",
      "+---------------+----+\n",
      "|PENDING_PAYMENT|   1|\n",
      "|       COMPLETE|   2|\n",
      "+---------------+----+\n",
      "only showing top 2 rows\n",
      "\n"
     ]
    }
   ],
   "source": [
    "mapping_df.show(2)"
   ]
  },
  {
   "cell_type": "code",
   "execution_count": 42,
   "id": "fa54818f",
   "metadata": {},
   "outputs": [],
   "source": [
    "spark.conf.set('spark.sql.autoBroadcastJoinThreshold','-1')"
   ]
  },
  {
   "cell_type": "code",
   "execution_count": 48,
   "id": "740223ac",
   "metadata": {},
   "outputs": [],
   "source": [
    "order_new_df.join(mapping_df, order_new_df.order_status == mapping_df.status, \"inner\").write.format(\"noop\").mode(\"overwrite\").save()"
   ]
  },
  {
   "cell_type": "code",
   "execution_count": 3,
   "id": "41d09da2",
   "metadata": {},
   "outputs": [],
   "source": [
    "spark.stop()"
   ]
  }
 ],
 "metadata": {
  "kernelspec": {
   "display_name": "Pyspark 3",
   "language": "python",
   "name": "pyspark3"
  },
  "language_info": {
   "codemirror_mode": {
    "name": "ipython",
    "version": 3
   },
   "file_extension": ".py",
   "mimetype": "text/x-python",
   "name": "python",
   "nbconvert_exporter": "python",
   "pygments_lexer": "ipython3",
   "version": "3.6.12"
  }
 },
 "nbformat": 4,
 "nbformat_minor": 5
}
