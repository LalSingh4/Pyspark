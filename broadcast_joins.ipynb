{
 "cells": [
  {
   "cell_type": "code",
   "execution_count": 10,
   "id": "1d67417c",
   "metadata": {},
   "outputs": [],
   "source": [
    "from pyspark.sql import SparkSession\n",
    "import getpass\n",
    "username=getpass.getuser()\n",
    "spark=SparkSession.\\\n",
    "    builder.\\\n",
    "    config('spark.ui.port','0').\\\n",
    "    config(\"spark.sql.warehouse.dir\",f\"/user/{username}/warehouse\").\\\n",
    "    enableHiveSupport().\\\n",
    "    master('yarn').\\\n",
    "    getOrCreate()"
   ]
  },
  {
   "cell_type": "code",
   "execution_count": 11,
   "id": "0d5f0abf",
   "metadata": {},
   "outputs": [],
   "source": [
    "order_base = spark.sparkContext.textFile(\"source_file_path\")"
   ]
  },
  {
   "cell_type": "code",
   "execution_count": 12,
   "id": "dec63c22",
   "metadata": {},
   "outputs": [],
   "source": [
    "orders_mapped = order_base.map(lambda x: (x.split(\",\")[3],x.split(\",\")[2]))"
   ]
  },
  {
   "cell_type": "code",
   "execution_count": 13,
   "id": "ff7cf7a4",
   "metadata": {},
   "outputs": [],
   "source": [
    "customer_base = spark.sparkContext.textFile(\"/public/trendytech/retail_db/customers/part-00000\")"
   ]
  },
  {
   "cell_type": "code",
   "execution_count": 14,
   "id": "e1491f71",
   "metadata": {},
   "outputs": [],
   "source": [
    "customer_map = customer_base.map(lambda x: (x.split(\",\")[0],x.split(\",\")[8]))"
   ]
  },
  {
   "cell_type": "code",
   "execution_count": 15,
   "id": "44c2c200",
   "metadata": {},
   "outputs": [],
   "source": [
    "customer_broadcast = spark.sparkContext.broadcast(cust_map.collect())"
   ]
  },
  {
   "cell_type": "code",
   "execution_count": 16,
   "id": "1648ab71",
   "metadata": {},
   "outputs": [],
   "source": [
    "def get_pincode(customer_id):\n",
    "    try:\n",
    "        return customer_broadcast.value[customer_id]\n",
    "    except:\n",
    "        return \"-1\""
   ]
  },
  {
   "cell_type": "code",
   "execution_count": 17,
   "id": "c6fb0f53",
   "metadata": {},
   "outputs": [],
   "source": [
    "joined_rdd = orders_mapped.map(lambda x:(get_pincode(int(x[0])),x[1]))"
   ]
  },
  {
   "cell_type": "code",
   "execution_count": null,
   "id": "c4e9ecf3",
   "metadata": {},
   "outputs": [],
   "source": []
  }
 ],
 "metadata": {
  "kernelspec": {
   "display_name": "Pyspark 3",
   "language": "python",
   "name": "pyspark3"
  },
  "language_info": {
   "codemirror_mode": {
    "name": "ipython",
    "version": 3
   },
   "file_extension": ".py",
   "mimetype": "text/x-python",
   "name": "python",
   "nbconvert_exporter": "python",
   "pygments_lexer": "ipython3",
   "version": "3.6.12"
  }
 },
 "nbformat": 4,
 "nbformat_minor": 5
}
