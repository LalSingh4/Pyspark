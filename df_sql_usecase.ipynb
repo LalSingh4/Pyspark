{
 "cells": [
  {
   "cell_type": "code",
   "execution_count": 2,
   "id": "b5bed891",
   "metadata": {},
   "outputs": [],
   "source": [
    "from pyspark.sql import SparkSession\n",
    "import getpass\n",
    "username=getpass.getuser()\n",
    "spark=SparkSession.\\\n",
    "    builder.\\\n",
    "    config('spark.ui.port','0').\\\n",
    "    config(\"spark.sql.warehouse.dir\",f\"/user/{username}/warehouse\").\\\n",
    "    enableHiveSupport().\\\n",
    "    master('yarn').\\\n",
    "    getOrCreate()"
   ]
  },
  {
   "cell_type": "code",
   "execution_count": 4,
   "id": "6073dfe6",
   "metadata": {},
   "outputs": [],
   "source": [
    "orders_df = spark.read \\\n",
    ".format(\"csv\") \\\n",
    ".option(\"header\",\"true\") \\\n",
    ".option(\"inferSchema\",\"true\") \\\n",
    ".load(\"source_file_path*\")"
   ]
  },
  {
   "cell_type": "code",
   "execution_count": 3,
   "id": "0befe3b0",
   "metadata": {},
   "outputs": [
    {
     "name": "stdout",
     "output_type": "stream",
     "text": [
      "+--------+--------------------+-----------+---------------+\n",
      "|order_id|          order_date|customer_id|   order_status|\n",
      "+--------+--------------------+-----------+---------------+\n",
      "|       1|2013-07-25 00:00:...|      11599|         CLOSED|\n",
      "|       2|2013-07-25 00:00:...|        256|PENDING_PAYMENT|\n",
      "|       3|2013-07-25 00:00:...|      12111|       COMPLETE|\n",
      "|       4|2013-07-25 00:00:...|       8827|         CLOSED|\n",
      "+--------+--------------------+-----------+---------------+\n",
      "only showing top 4 rows\n",
      "\n"
     ]
    }
   ],
   "source": [
    "orders_df.show(4)"
   ]
  },
  {
   "cell_type": "code",
   "execution_count": 4,
   "id": "2899b367",
   "metadata": {},
   "outputs": [
    {
     "name": "stdout",
     "output_type": "stream",
     "text": [
      "root\n",
      " |-- order_id: integer (nullable = true)\n",
      " |-- order_date: string (nullable = true)\n",
      " |-- customer_id: integer (nullable = true)\n",
      " |-- order_status: string (nullable = true)\n",
      "\n"
     ]
    }
   ],
   "source": [
    "orders_df.printSchema()"
   ]
  },
  {
   "cell_type": "markdown",
   "id": "09cc5780",
   "metadata": {},
   "source": [
    "## Higher level APIs demo"
   ]
  },
  {
   "cell_type": "code",
   "execution_count": 5,
   "id": "61cce28e",
   "metadata": {},
   "outputs": [],
   "source": [
    "orders_df.createOrReplaceTempView(\"orders\")"
   ]
  },
  {
   "cell_type": "markdown",
   "id": "7b2d5a99",
   "metadata": {},
   "source": [
    "#### 1 top 15 customers who placed the most number of orders"
   ]
  },
  {
   "cell_type": "code",
   "execution_count": 12,
   "id": "57c09391",
   "metadata": {},
   "outputs": [],
   "source": [
    "df00 = orders_df.groupby(\"customer_id\")\\\n",
    ".count()\\\n",
    ".sort(\"count\", ascending = False).limit(15)"
   ]
  },
  {
   "cell_type": "code",
   "execution_count": 13,
   "id": "811306ad",
   "metadata": {},
   "outputs": [
    {
     "name": "stdout",
     "output_type": "stream",
     "text": [
      "+-----------+-----+\n",
      "|customer_id|count|\n",
      "+-----------+-----+\n",
      "|       5897|   16|\n",
      "|      12431|   16|\n",
      "|        569|   16|\n",
      "|       6316|   16|\n",
      "|      12284|   15|\n",
      "|       4320|   15|\n",
      "|       5624|   15|\n",
      "|       5283|   15|\n",
      "|        221|   15|\n",
      "|       5654|   15|\n",
      "|       6248|   14|\n",
      "|       3708|   14|\n",
      "|       1011|   14|\n",
      "|       8652|   14|\n",
      "|       4517|   14|\n",
      "+-----------+-----+\n",
      "\n"
     ]
    }
   ],
   "source": [
    "df00.show()"
   ]
  },
  {
   "cell_type": "code",
   "execution_count": 14,
   "id": "4a5ecd00",
   "metadata": {},
   "outputs": [],
   "source": [
    "# using spark sql\n",
    "df01 = spark.sql(\"select customer_id,count(order_id) as count from orders group by customer_id order by count desc limit 15\")"
   ]
  },
  {
   "cell_type": "code",
   "execution_count": 15,
   "id": "9c02799a",
   "metadata": {},
   "outputs": [
    {
     "name": "stdout",
     "output_type": "stream",
     "text": [
      "+-----------+-----+\n",
      "|customer_id|count|\n",
      "+-----------+-----+\n",
      "|       5897|   16|\n",
      "|      12431|   16|\n",
      "|        569|   16|\n",
      "|       6316|   16|\n",
      "|      12284|   15|\n",
      "|       4320|   15|\n",
      "|       5624|   15|\n",
      "|       5283|   15|\n",
      "|        221|   15|\n",
      "|       5654|   15|\n",
      "|       6248|   14|\n",
      "|       3708|   14|\n",
      "|       1011|   14|\n",
      "|       8652|   14|\n",
      "|       4517|   14|\n",
      "+-----------+-----+\n",
      "\n"
     ]
    }
   ],
   "source": [
    "df01.show()"
   ]
  },
  {
   "cell_type": "markdown",
   "id": "167624f5",
   "metadata": {},
   "source": [
    "#### 2 Find the number of orders under each order status"
   ]
  },
  {
   "cell_type": "code",
   "execution_count": 16,
   "id": "6403976b",
   "metadata": {},
   "outputs": [],
   "source": [
    "df02 = orders_df.groupby(\"order_status\").count()"
   ]
  },
  {
   "cell_type": "code",
   "execution_count": 17,
   "id": "3d472d78",
   "metadata": {},
   "outputs": [
    {
     "name": "stdout",
     "output_type": "stream",
     "text": [
      "+---------------+-----+\n",
      "|   order_status|count|\n",
      "+---------------+-----+\n",
      "|PENDING_PAYMENT|15030|\n",
      "|       COMPLETE|22899|\n",
      "|        ON_HOLD| 3798|\n",
      "| PAYMENT_REVIEW|  729|\n",
      "|     PROCESSING| 8275|\n",
      "|         CLOSED| 7556|\n",
      "|SUSPECTED_FRAUD| 1558|\n",
      "|        PENDING| 7610|\n",
      "|       CANCELED| 1428|\n",
      "+---------------+-----+\n",
      "\n"
     ]
    }
   ],
   "source": [
    "df02.show()"
   ]
  },
  {
   "cell_type": "code",
   "execution_count": 18,
   "id": "01f36100",
   "metadata": {},
   "outputs": [],
   "source": [
    "#spark sql\n",
    "df02 = spark.sql(\"select order_status, count(order_id) as count from orders group by order_status\")"
   ]
  },
  {
   "cell_type": "code",
   "execution_count": 19,
   "id": "3b43a470",
   "metadata": {},
   "outputs": [
    {
     "name": "stdout",
     "output_type": "stream",
     "text": [
      "+---------------+-----+\n",
      "|   order_status|count|\n",
      "+---------------+-----+\n",
      "|PENDING_PAYMENT|15030|\n",
      "|       COMPLETE|22899|\n",
      "|        ON_HOLD| 3798|\n",
      "| PAYMENT_REVIEW|  729|\n",
      "|     PROCESSING| 8275|\n",
      "|         CLOSED| 7556|\n",
      "|SUSPECTED_FRAUD| 1558|\n",
      "|        PENDING| 7610|\n",
      "|       CANCELED| 1428|\n",
      "+---------------+-----+\n",
      "\n"
     ]
    }
   ],
   "source": [
    "df02.show()"
   ]
  },
  {
   "cell_type": "markdown",
   "id": "ef70a99e",
   "metadata": {},
   "source": [
    "#### 3 number of active user(who placed atleast one order)"
   ]
  },
  {
   "cell_type": "code",
   "execution_count": 20,
   "id": "de17290b",
   "metadata": {},
   "outputs": [],
   "source": [
    "df03 = orders_df.select(\"customer_id\").distinct().count()"
   ]
  },
  {
   "cell_type": "code",
   "execution_count": 22,
   "id": "bb785dce",
   "metadata": {},
   "outputs": [
    {
     "name": "stdout",
     "output_type": "stream",
     "text": [
      "12405\n"
     ]
    }
   ],
   "source": [
    "print(df03)"
   ]
  },
  {
   "cell_type": "code",
   "execution_count": 23,
   "id": "2853985b",
   "metadata": {},
   "outputs": [
    {
     "data": {
      "text/html": [
       "<table border='1'>\n",
       "<tr><th>active_user</th></tr>\n",
       "<tr><td>12405</td></tr>\n",
       "</table>\n"
      ],
      "text/plain": [
       "+-----------+\n",
       "|active_user|\n",
       "+-----------+\n",
       "|      12405|\n",
       "+-----------+"
      ]
     },
     "execution_count": 23,
     "metadata": {},
     "output_type": "execute_result"
    }
   ],
   "source": [
    "#spark sql\n",
    "spark.sql(\"select count(distinct(customer_id)) as active_user from orders\")"
   ]
  },
  {
   "cell_type": "code",
   "execution_count": null,
   "id": "681a3921",
   "metadata": {},
   "outputs": [],
   "source": []
  },
  {
   "cell_type": "markdown",
   "id": "cb4dfc1e",
   "metadata": {},
   "source": [
    "#### 4 customer with most number of closed orders"
   ]
  },
  {
   "cell_type": "code",
   "execution_count": 24,
   "id": "5d908845",
   "metadata": {},
   "outputs": [],
   "source": [
    "df04 = orders_df.filter(\"order_status = 'CLOSED'\")\\\n",
    ".groupby(\"customer_id\")\\\n",
    ".count()\\\n",
    ".sort(\"count\", ascending = False)"
   ]
  },
  {
   "cell_type": "code",
   "execution_count": 25,
   "id": "de5768ce",
   "metadata": {},
   "outputs": [
    {
     "name": "stdout",
     "output_type": "stream",
     "text": [
      "+-----------+-----+\n",
      "|customer_id|count|\n",
      "+-----------+-----+\n",
      "|       1833|    6|\n",
      "|       1687|    5|\n",
      "|       1363|    5|\n",
      "|       5493|    5|\n",
      "|       2403|    4|\n",
      "|      12431|    4|\n",
      "|      10263|    4|\n",
      "|       2236|    4|\n",
      "|      10111|    4|\n",
      "|       7948|    4|\n",
      "|       4573|    4|\n",
      "|       7879|    4|\n",
      "|       2774|    4|\n",
      "|       4588|    4|\n",
      "|       1521|    4|\n",
      "|        437|    4|\n",
      "|      10018|    4|\n",
      "|       5319|    4|\n",
      "|       7850|    4|\n",
      "|       3631|    4|\n",
      "+-----------+-----+\n",
      "only showing top 20 rows\n",
      "\n"
     ]
    }
   ],
   "source": [
    "df04.show()"
   ]
  },
  {
   "cell_type": "code",
   "execution_count": 6,
   "id": "e19e601c",
   "metadata": {},
   "outputs": [],
   "source": [
    "df04 = spark.sql(\"select customer_id , count(order_id) as count from orders where order_status = 'CLOSED' group by customer_id order by count desc\")"
   ]
  },
  {
   "cell_type": "code",
   "execution_count": 7,
   "id": "6b07ffda",
   "metadata": {},
   "outputs": [
    {
     "name": "stdout",
     "output_type": "stream",
     "text": [
      "+-----------+-----+\n",
      "|customer_id|count|\n",
      "+-----------+-----+\n",
      "|       1833|    6|\n",
      "|       1363|    5|\n",
      "|       1687|    5|\n",
      "|       5493|    5|\n",
      "|       7948|    4|\n",
      "|       2768|    4|\n",
      "|      10263|    4|\n",
      "|       2236|    4|\n",
      "|       2403|    4|\n",
      "|       7879|    4|\n",
      "|       4573|    4|\n",
      "|       7850|    4|\n",
      "|      12431|    4|\n",
      "|       1521|    4|\n",
      "|      10111|    4|\n",
      "|        437|    4|\n",
      "|      10018|    4|\n",
      "|       5319|    4|\n",
      "|       2774|    4|\n",
      "|       3631|    4|\n",
      "+-----------+-----+\n",
      "only showing top 20 rows\n",
      "\n"
     ]
    }
   ],
   "source": [
    "df04.show()"
   ]
  },
  {
   "cell_type": "code",
   "execution_count": null,
   "id": "e169ca3b",
   "metadata": {},
   "outputs": [],
   "source": [
    "spark.stop()"
   ]
  }
 ],
 "metadata": {
  "kernelspec": {
   "display_name": "Pyspark 3",
   "language": "python",
   "name": "pyspark3"
  },
  "language_info": {
   "codemirror_mode": {
    "name": "ipython",
    "version": 3
   },
   "file_extension": ".py",
   "mimetype": "text/x-python",
   "name": "python",
   "nbconvert_exporter": "python",
   "pygments_lexer": "ipython3",
   "version": "3.6.12"
  }
 },
 "nbformat": 4,
 "nbformat_minor": 5
}
