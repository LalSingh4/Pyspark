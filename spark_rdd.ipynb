{
 "cells": [
  {
   "cell_type": "code",
   "execution_count": 2,
   "id": "da3edad1",
   "metadata": {},
   "outputs": [],
   "source": [
    "from pyspark.sql import SparkSession\n",
    "import getpass\n",
    "username=getpass.getuser()\n",
    "spark=SparkSession.\\\n",
    "    builder.\\\n",
    "    config('spark.ui.port','0').\\\n",
    "    config(\"spark.sql.warehouse.dir\",f\"/user/{username}/warehouse\").\\\n",
    "    enableHiveSupport().\\\n",
    "    master('yarn').\\\n",
    "    getOrCreate()"
   ]
  },
  {
   "cell_type": "code",
   "execution_count": 2,
   "id": "30fe2db2",
   "metadata": {},
   "outputs": [
    {
     "data": {
      "text/html": [
       "\n",
       "            <div>\n",
       "                <p><b>SparkSession - hive</b></p>\n",
       "                \n",
       "        <div>\n",
       "            <p><b>SparkContext</b></p>\n",
       "\n",
       "            <p><a href=\"http://g02.itversity.com:40783\">Spark UI</a></p>\n",
       "\n",
       "            <dl>\n",
       "              <dt>Version</dt>\n",
       "                <dd><code>v3.1.2</code></dd>\n",
       "              <dt>Master</dt>\n",
       "                <dd><code>yarn</code></dd>\n",
       "              <dt>AppName</dt>\n",
       "                <dd><code>pyspark-shell</code></dd>\n",
       "            </dl>\n",
       "        </div>\n",
       "        \n",
       "            </div>\n",
       "        "
      ],
      "text/plain": [
       "<pyspark.sql.session.SparkSession at 0x7f85b07452b0>"
      ]
     },
     "execution_count": 2,
     "metadata": {},
     "output_type": "execute_result"
    }
   ],
   "source": [
    "spark"
   ]
  },
  {
   "cell_type": "code",
   "execution_count": 3,
   "id": "500f43d8",
   "metadata": {},
   "outputs": [
    {
     "data": {
      "text/plain": [
       "['1,2013-07-25 00:00:00.0,11599,CLOSED',\n",
       " '2,2013-07-25 00:00:00.0,256,PENDING_PAYMENT',\n",
       " '3,2013-07-25 00:00:00.0,12111,COMPLETE',\n",
       " '4,2013-07-25 00:00:00.0,8827,CLOSED',\n",
       " '5,2013-07-25 00:00:00.0,11318,COMPLETE']"
      ]
     },
     "execution_count": 3,
     "metadata": {},
     "output_type": "execute_result"
    }
   ],
   "source": [
    "rdd1 = spark.sparkContext.textFile(\"/public/trendytech/retail_db/orders/*\")\n",
    "rdd1.take(5)"
   ]
  },
  {
   "cell_type": "code",
   "execution_count": null,
   "id": "fadc7fa6",
   "metadata": {},
   "outputs": [],
   "source": [
    "rdd2 = rdd1.map(lambda x : (x.split(\",\")[3],1))\n",
    "rdd2.take(5)"
   ]
  },
  {
   "cell_type": "code",
   "execution_count": 5,
   "id": "c764ee9b",
   "metadata": {},
   "outputs": [],
   "source": [
    "rdd3 = rdd2.reduceByKey(lambda x,y : x+y)\n"
   ]
  },
  {
   "cell_type": "code",
   "execution_count": 6,
   "id": "39507178",
   "metadata": {},
   "outputs": [
    {
     "data": {
      "text/plain": [
       "[('CLOSED', 7556),\n",
       " ('CANCELED', 1428),\n",
       " ('PENDING_PAYMENT', 15030),\n",
       " ('COMPLETE', 22899),\n",
       " ('PROCESSING', 8275),\n",
       " ('PAYMENT_REVIEW', 729),\n",
       " ('PENDING', 7610),\n",
       " ('ON_HOLD', 3798),\n",
       " ('SUSPECTED_FRAUD', 1558)]"
      ]
     },
     "execution_count": 6,
     "metadata": {},
     "output_type": "execute_result"
    }
   ],
   "source": [
    "rdd3.collect()"
   ]
  },
  {
   "cell_type": "code",
   "execution_count": 7,
   "id": "fbc171bd",
   "metadata": {},
   "outputs": [],
   "source": [
    "sorted_rdd = rdd3.sortBy(lambda x: x[1])"
   ]
  },
  {
   "cell_type": "code",
   "execution_count": 8,
   "id": "9530edc1",
   "metadata": {},
   "outputs": [
    {
     "data": {
      "text/plain": [
       "[('PAYMENT_REVIEW', 729),\n",
       " ('CANCELED', 1428),\n",
       " ('SUSPECTED_FRAUD', 1558),\n",
       " ('ON_HOLD', 3798),\n",
       " ('CLOSED', 7556),\n",
       " ('PENDING', 7610),\n",
       " ('PROCESSING', 8275),\n",
       " ('PENDING_PAYMENT', 15030),\n",
       " ('COMPLETE', 22899)]"
      ]
     },
     "execution_count": 8,
     "metadata": {},
     "output_type": "execute_result"
    }
   ],
   "source": [
    "sorted_rdd.collect()"
   ]
  },
  {
   "cell_type": "code",
   "execution_count": 12,
   "id": "009fe142",
   "metadata": {},
   "outputs": [],
   "source": [
    "#customer\n",
    "cust_rdd1 = rdd1.map(lambda x : (x.split(\",\")[2],1))"
   ]
  },
  {
   "cell_type": "code",
   "execution_count": 13,
   "id": "702a584c",
   "metadata": {},
   "outputs": [
    {
     "data": {
      "text/plain": [
       "[('11599', 1), ('256', 1), ('12111', 1)]"
      ]
     },
     "execution_count": 13,
     "metadata": {},
     "output_type": "execute_result"
    }
   ],
   "source": [
    "cust_rdd1.take(3)"
   ]
  },
  {
   "cell_type": "code",
   "execution_count": 14,
   "id": "3b5d101b",
   "metadata": {},
   "outputs": [],
   "source": [
    "cust_rdd2 = cust_rdd1.reduceByKey(lambda x,y :x+y)"
   ]
  },
  {
   "cell_type": "code",
   "execution_count": 15,
   "id": "3a999df9",
   "metadata": {},
   "outputs": [
    {
     "data": {
      "text/plain": [
       "[('256', 10), ('12111', 6), ('11318', 6)]"
      ]
     },
     "execution_count": 15,
     "metadata": {},
     "output_type": "execute_result"
    }
   ],
   "source": [
    "cust_rdd2.take(3)"
   ]
  },
  {
   "cell_type": "code",
   "execution_count": 16,
   "id": "1c8aca14",
   "metadata": {},
   "outputs": [],
   "source": [
    "cust_sort_rdd = cust_rdd2.sortBy(lambda x : x[1], False)"
   ]
  },
  {
   "cell_type": "code",
   "execution_count": 18,
   "id": "16180114",
   "metadata": {},
   "outputs": [
    {
     "data": {
      "text/plain": [
       "[('5897', 16),\n",
       " ('6316', 16),\n",
       " ('12431', 16),\n",
       " ('569', 16),\n",
       " ('4320', 15),\n",
       " ('221', 15),\n",
       " ('5624', 15),\n",
       " ('5283', 15),\n",
       " ('12284', 15),\n",
       " ('5654', 15)]"
      ]
     },
     "execution_count": 18,
     "metadata": {},
     "output_type": "execute_result"
    }
   ],
   "source": [
    "cust_sort_rdd.take(10)"
   ]
  },
  {
   "cell_type": "code",
   "execution_count": 21,
   "id": "53e25e2f",
   "metadata": {},
   "outputs": [],
   "source": [
    "#customer atleat one\n",
    "distinct_cust = rdd1.map(lambda x : x.split(\",\")[2]).distinct()"
   ]
  },
  {
   "cell_type": "code",
   "execution_count": 22,
   "id": "d68b698a",
   "metadata": {},
   "outputs": [
    {
     "data": {
      "text/plain": [
       "12405"
      ]
     },
     "execution_count": 22,
     "metadata": {},
     "output_type": "execute_result"
    }
   ],
   "source": [
    "distinct_cust.count()"
   ]
  },
  {
   "cell_type": "code",
   "execution_count": 4,
   "id": "5c5b50e6",
   "metadata": {},
   "outputs": [],
   "source": [
    "#closed orders customer\n",
    "filter_order = rdd1.filter(lambda x : (x.split(\",\")[3] == 'CLOSED'))"
   ]
  },
  {
   "cell_type": "code",
   "execution_count": 5,
   "id": "d5375530",
   "metadata": {},
   "outputs": [
    {
     "data": {
      "text/plain": [
       "['1,2013-07-25 00:00:00.0,11599,CLOSED',\n",
       " '4,2013-07-25 00:00:00.0,8827,CLOSED',\n",
       " '12,2013-07-25 00:00:00.0,1837,CLOSED',\n",
       " '18,2013-07-25 00:00:00.0,1205,CLOSED']"
      ]
     },
     "execution_count": 5,
     "metadata": {},
     "output_type": "execute_result"
    }
   ],
   "source": [
    "filter_order.take(4)"
   ]
  },
  {
   "cell_type": "code",
   "execution_count": 8,
   "id": "317b6021",
   "metadata": {},
   "outputs": [],
   "source": [
    "closed_order = filter_order.map(lambda x : (x.split(\",\")[2], 1))"
   ]
  },
  {
   "cell_type": "code",
   "execution_count": 9,
   "id": "066f614d",
   "metadata": {},
   "outputs": [
    {
     "data": {
      "text/plain": [
       "[('11599', 1), ('8827', 1), ('1837', 1)]"
      ]
     },
     "execution_count": 9,
     "metadata": {},
     "output_type": "execute_result"
    }
   ],
   "source": [
    "closed_order.take(3)"
   ]
  },
  {
   "cell_type": "code",
   "execution_count": 10,
   "id": "d90ed55b",
   "metadata": {},
   "outputs": [
    {
     "data": {
      "text/plain": [
       "[('5863', 1), ('12271', 2), ('7073', 1)]"
      ]
     },
     "execution_count": 10,
     "metadata": {},
     "output_type": "execute_result"
    }
   ],
   "source": [
    "agg_rdd = closed_order.reduceByKey(lambda x,y :x+y)\n",
    "agg_rdd.take(3)"
   ]
  },
  {
   "cell_type": "code",
   "execution_count": 12,
   "id": "0c2659e8",
   "metadata": {},
   "outputs": [],
   "source": [
    "sorted_orders = agg_rdd.sortBy(lambda x : x[1], False)"
   ]
  },
  {
   "cell_type": "code",
   "execution_count": 14,
   "id": "0b2af187",
   "metadata": {},
   "outputs": [
    {
     "data": {
      "text/plain": [
       "[('1833', 6),\n",
       " ('5493', 5),\n",
       " ('1363', 5),\n",
       " ('1687', 5),\n",
       " ('2768', 4),\n",
       " ('5319', 4),\n",
       " ('437', 4),\n",
       " ('2774', 4),\n",
       " ('10111', 4),\n",
       " ('5582', 4)]"
      ]
     },
     "execution_count": 14,
     "metadata": {},
     "output_type": "execute_result"
    }
   ],
   "source": [
    "sorted_orders.take(10)"
   ]
  },
  {
   "cell_type": "code",
   "execution_count": null,
   "id": "9f9e8363",
   "metadata": {},
   "outputs": [],
   "source": []
  }
 ],
 "metadata": {
  "kernelspec": {
   "display_name": "Pyspark 3",
   "language": "python",
   "name": "pyspark3"
  },
  "language_info": {
   "codemirror_mode": {
    "name": "ipython",
    "version": 3
   },
   "file_extension": ".py",
   "mimetype": "text/x-python",
   "name": "python",
   "nbconvert_exporter": "python",
   "pygments_lexer": "ipython3",
   "version": "3.6.12"
  }
 },
 "nbformat": 4,
 "nbformat_minor": 5
}
