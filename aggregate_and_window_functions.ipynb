{
 "cells": [
  {
   "cell_type": "code",
   "execution_count": 43,
   "id": "33bd1b52",
   "metadata": {},
   "outputs": [],
   "source": [
    "from pyspark.sql import SparkSession\n",
    "import getpass\n",
    "username=getpass.getuser()\n",
    "spark=SparkSession.\\\n",
    "    builder.\\\n",
    "    appName(\"spark\"). \\\n",
    "    config('spark.ui.port','0').\\\n",
    "    config(\"spark.sql.warehouse.dir\",f\"/user/{username}/warehouse\").\\\n",
    "    enableHiveSupport().\\\n",
    "    master('yarn').\\\n",
    "    getOrCreate()"
   ]
  },
  {
   "cell_type": "code",
   "execution_count": 2,
   "id": "cd59578d",
   "metadata": {},
   "outputs": [],
   "source": [
    "order_schema = 'order_id long, order_date date, customer_id long, order_status string'"
   ]
  },
  {
   "cell_type": "code",
   "execution_count": 3,
   "id": "e9174e66",
   "metadata": {},
   "outputs": [],
   "source": [
    "df = spark.read \\\n",
    ".format(\"csv\") \\\n",
    ".schema(order_schema) \\\n",
    ".load(\"source_file_path\")"
   ]
  },
  {
   "cell_type": "code",
   "execution_count": 4,
   "id": "039f24c4",
   "metadata": {},
   "outputs": [
    {
     "name": "stdout",
     "output_type": "stream",
     "text": [
      "+--------+----------+-----------+---------------+\n",
      "|order_id|order_date|customer_id|   order_status|\n",
      "+--------+----------+-----------+---------------+\n",
      "|       1|2013-07-25|      11599|         CLOSED|\n",
      "|       2|2013-07-25|        256|PENDING_PAYMENT|\n",
      "|       3|2013-07-25|      12111|       COMPLETE|\n",
      "|       4|2013-07-25|       8827|         CLOSED|\n",
      "|       5|2013-07-25|      11318|       COMPLETE|\n",
      "+--------+----------+-----------+---------------+\n",
      "only showing top 5 rows\n",
      "\n"
     ]
    }
   ],
   "source": [
    "df.show(5)"
   ]
  },
  {
   "cell_type": "code",
   "execution_count": 5,
   "id": "d5ad4bca",
   "metadata": {},
   "outputs": [
    {
     "name": "stdout",
     "output_type": "stream",
     "text": [
      "+--------+----------+-----------+---------------+\n",
      "|order_id|order_date|customer_id|   order_status|\n",
      "+--------+----------+-----------+---------------+\n",
      "|       1|2013-07-25|      11599|         CLOSED|\n",
      "|       2|2013-07-25|        256|PENDING_PAYMENT|\n",
      "|       3|2013-07-25|      12111|       COMPLETE|\n",
      "|       4|2013-07-25|       8827|         CLOSED|\n",
      "|       5|2013-07-25|      11318|       COMPLETE|\n",
      "|       6|2013-07-25|       7130|       COMPLETE|\n",
      "|       7|2013-07-25|       4530|       COMPLETE|\n",
      "|       8|2013-07-25|       2911|     PROCESSING|\n",
      "|       9|2013-07-25|       5657|PENDING_PAYMENT|\n",
      "|      10|2013-07-25|       5648|PENDING_PAYMENT|\n",
      "|      11|2013-07-25|        918| PAYMENT_REVIEW|\n",
      "|      12|2013-07-25|       1837|         CLOSED|\n",
      "|      13|2013-07-25|       9149|PENDING_PAYMENT|\n",
      "|      14|2013-07-25|       9842|     PROCESSING|\n",
      "|      15|2013-07-25|       2568|       COMPLETE|\n",
      "|      16|2013-07-25|       7276|PENDING_PAYMENT|\n",
      "|      17|2013-07-25|       2667|       COMPLETE|\n",
      "|      18|2013-07-25|       1205|         CLOSED|\n",
      "|      19|2013-07-25|       9488|PENDING_PAYMENT|\n",
      "|      20|2013-07-25|       9198|     PROCESSING|\n",
      "+--------+----------+-----------+---------------+\n",
      "only showing top 20 rows\n",
      "\n"
     ]
    }
   ],
   "source": [
    "df.select(\"*\").show()"
   ]
  },
  {
   "cell_type": "code",
   "execution_count": 6,
   "id": "769658ed",
   "metadata": {},
   "outputs": [
    {
     "name": "stdout",
     "output_type": "stream",
     "text": [
      "+--------+----------+\n",
      "|order_id|order_date|\n",
      "+--------+----------+\n",
      "|       1|2013-07-25|\n",
      "|       2|2013-07-25|\n",
      "|       3|2013-07-25|\n",
      "|       4|2013-07-25|\n",
      "|       5|2013-07-25|\n",
      "|       6|2013-07-25|\n",
      "|       7|2013-07-25|\n",
      "|       8|2013-07-25|\n",
      "|       9|2013-07-25|\n",
      "|      10|2013-07-25|\n",
      "|      11|2013-07-25|\n",
      "|      12|2013-07-25|\n",
      "|      13|2013-07-25|\n",
      "|      14|2013-07-25|\n",
      "|      15|2013-07-25|\n",
      "|      16|2013-07-25|\n",
      "|      17|2013-07-25|\n",
      "|      18|2013-07-25|\n",
      "|      19|2013-07-25|\n",
      "|      20|2013-07-25|\n",
      "+--------+----------+\n",
      "only showing top 20 rows\n",
      "\n"
     ]
    }
   ],
   "source": [
    "df.select(\"order_id\",\"order_date\").show()"
   ]
  },
  {
   "cell_type": "code",
   "execution_count": 30,
   "id": "cd7a319a",
   "metadata": {},
   "outputs": [],
   "source": [
    "from pyspark.sql.functions import *"
   ]
  },
  {
   "cell_type": "code",
   "execution_count": 11,
   "id": "1c073b0b",
   "metadata": {},
   "outputs": [
    {
     "name": "stdout",
     "output_type": "stream",
     "text": [
      "+--------+----------+----------+\n",
      "|order_id|order_date|order_date|\n",
      "+--------+----------+----------+\n",
      "|       1|2013-07-25|2013-07-25|\n",
      "|       2|2013-07-25|2013-07-25|\n",
      "|       3|2013-07-25|2013-07-25|\n",
      "|       4|2013-07-25|2013-07-25|\n",
      "|       5|2013-07-25|2013-07-25|\n",
      "|       6|2013-07-25|2013-07-25|\n",
      "|       7|2013-07-25|2013-07-25|\n",
      "|       8|2013-07-25|2013-07-25|\n",
      "|       9|2013-07-25|2013-07-25|\n",
      "|      10|2013-07-25|2013-07-25|\n",
      "|      11|2013-07-25|2013-07-25|\n",
      "|      12|2013-07-25|2013-07-25|\n",
      "|      13|2013-07-25|2013-07-25|\n",
      "|      14|2013-07-25|2013-07-25|\n",
      "|      15|2013-07-25|2013-07-25|\n",
      "|      16|2013-07-25|2013-07-25|\n",
      "|      17|2013-07-25|2013-07-25|\n",
      "|      18|2013-07-25|2013-07-25|\n",
      "|      19|2013-07-25|2013-07-25|\n",
      "|      20|2013-07-25|2013-07-25|\n",
      "+--------+----------+----------+\n",
      "only showing top 20 rows\n",
      "\n"
     ]
    }
   ],
   "source": [
    "df.select(\"order_id\",df.order_date,df['order_date']).show()"
   ]
  },
  {
   "cell_type": "markdown",
   "id": "efa468ab",
   "metadata": {},
   "source": [
    "## Agggregation"
   ]
  },
  {
   "cell_type": "code",
   "execution_count": 24,
   "id": "5e477874",
   "metadata": {},
   "outputs": [],
   "source": [
    "order_df = spark.read \\\n",
    ".format(\"csv\") \\\n",
    ".option(\"inferSchema\", \"true\") \\\n",
    ".option(\"header\", \"true\") \\\n",
    ".load(\"source_file_path\")"
   ]
  },
  {
   "cell_type": "code",
   "execution_count": 25,
   "id": "228dd7b4",
   "metadata": {},
   "outputs": [
    {
     "name": "stdout",
     "output_type": "stream",
     "text": [
      "+---------+---------+--------------------+--------+---------------+---------+----------+--------------+\n",
      "|InvoiceNo|StockCode|         Description|Quantity|    InvoiceDate|UnitPrice|CustomerID|       Country|\n",
      "+---------+---------+--------------------+--------+---------------+---------+----------+--------------+\n",
      "|   536378|     null|PACK OF 60 DINOSA...|      24|01-12-2010 9.37|     0.55|     14688|United Kingdom|\n",
      "|   536378|     null|PACK OF 60 PINK P...|      24|01-12-2010 9.37|     0.55|     14688|United Kingdom|\n",
      "|   536378|    84991|60 TEATIME FAIRY ...|      24|01-12-2010 9.37|     0.55|     14688|United Kingdom|\n",
      "|   536378|   84519A|TOMATO CHARLIE+LO...|       6|01-12-2010 9.37|     2.95|     14688|United Kingdom|\n",
      "|   536378|   85183B|CHARLIE & LOLA WA...|      48|01-12-2010 9.37|     1.25|     14688|United Kingdom|\n",
      "|   536378|   85071B|RED CHARLIE+LOLA ...|      96|01-12-2010 9.37|     0.38|     14688|United Kingdom|\n",
      "|   536378|    21931|JUMBO STORAGE BAG...|      10|01-12-2010 9.37|     1.95|     14688|United Kingdom|\n",
      "|   536378|    21929|JUMBO BAG PINK VI...|      10|01-12-2010 9.37|     1.95|     14688|United Kingdom|\n",
      "|   536380|    22961|JAM MAKING SET PR...|      24|01-12-2010 9.41|     1.45|     17809|United Kingdom|\n",
      "|   536381|    22139|RETROSPOT TEA SET...|      23|01-12-2010 9.41|     4.25|     15311|United Kingdom|\n",
      "|   536381|    84854| GIRLY PINK TOOL SET|       5|01-12-2010 9.41|     4.95|     15311|United Kingdom|\n",
      "|   536381|    22411|JUMBO SHOPPER VIN...|      10|01-12-2010 9.41|     1.95|     15311|United Kingdom|\n",
      "|   536381|    82567|AIRLINE LOUNGE,ME...|       2|01-12-2010 9.41|      2.1|     15311|United Kingdom|\n",
      "|   536381|    21672|WHITE SPOT RED CE...|       6|01-12-2010 9.41|     1.25|     15311|United Kingdom|\n",
      "|   536381|    22774|RED DRAWER KNOB A...|      24|01-12-2010 9.41|     1.25|     15311|United Kingdom|\n",
      "|   536381|    22771|CLEAR DRAWER KNOB...|      24|01-12-2010 9.41|     1.25|     15311|United Kingdom|\n",
      "|   536381|    71270|     PHOTO CLIP LINE|       1|01-12-2010 9.41|     1.25|     15311|United Kingdom|\n",
      "|   536381|    22262|FELT EGG COSY CHI...|       1|01-12-2010 9.41|     0.85|     15311|United Kingdom|\n",
      "|   536381|    22637|PIGGY BANK RETROS...|       1|01-12-2010 9.41|     2.55|     15311|United Kingdom|\n",
      "|   536381|    21934|  SKULL SHOULDER BAG|      10|01-12-2010 9.41|     1.65|     15311|United Kingdom|\n",
      "+---------+---------+--------------------+--------+---------------+---------+----------+--------------+\n",
      "only showing top 20 rows\n",
      "\n"
     ]
    }
   ],
   "source": [
    "order_df.show()"
   ]
  },
  {
   "cell_type": "markdown",
   "id": "e7bc2f5c",
   "metadata": {},
   "source": [
    "####simple aggregation"
   ]
  },
  {
   "cell_type": "markdown",
   "id": "29a3763f",
   "metadata": {},
   "source": [
    "## grouping agg"
   ]
  },
  {
   "cell_type": "code",
   "execution_count": 26,
   "id": "c93c3f65",
   "metadata": {},
   "outputs": [],
   "source": [
    "#programatic \n",
    "summary_df = order_df \\\n",
    ".groupby(\"country\", \"invoiceno\") \\\n",
    ".agg(sum(\"quantity\").alias(\"total_quantity\"), sum(expr(\"quantity * unitprice\")).alias('invoice_value')).sort(\"invoiceno\")"
   ]
  },
  {
   "cell_type": "code",
   "execution_count": 27,
   "id": "65812b3b",
   "metadata": {},
   "outputs": [
    {
     "name": "stdout",
     "output_type": "stream",
     "text": [
      "+--------------+---------+--------------+------------------+\n",
      "|       country|invoiceno|total_quantity|     invoice_value|\n",
      "+--------------+---------+--------------+------------------+\n",
      "|United Kingdom|   536378|           242|192.78000000000003|\n",
      "|United Kingdom|   536380|            24|              34.8|\n",
      "|United Kingdom|   536381|           198|449.97999999999996|\n",
      "|United Kingdom|   536382|           134|430.59999999999997|\n",
      "|United Kingdom|   536384|           190|             489.6|\n",
      "|United Kingdom|   536385|            53|            130.85|\n",
      "|United Kingdom|   536386|           236|508.20000000000005|\n",
      "|United Kingdom|   536387|          1440|           3193.92|\n",
      "|United Kingdom|   536388|           108|            226.14|\n",
      "|     Australia|   536389|           107|            358.25|\n",
      "|United Kingdom|   536390|          1568|           1825.74|\n",
      "|United Kingdom|   536392|           103|318.14000000000004|\n",
      "|United Kingdom|   536393|             8|              79.6|\n",
      "|United Kingdom|   536394|           544|1024.6800000000003|\n",
      "|United Kingdom|   536395|           260| 507.8800000000001|\n",
      "|United Kingdom|   536396|           102|376.36000000000007|\n",
      "|United Kingdom|   536397|            60|             279.0|\n",
      "|United Kingdom|   536398|           150|426.56000000000006|\n",
      "|United Kingdom|   536399|            12|22.200000000000003|\n",
      "|United Kingdom|   536400|            12|              17.4|\n",
      "+--------------+---------+--------------+------------------+\n",
      "only showing top 20 rows\n",
      "\n"
     ]
    }
   ],
   "source": [
    "summary_df.show()"
   ]
  },
  {
   "cell_type": "code",
   "execution_count": 44,
   "id": "26393f82",
   "metadata": {},
   "outputs": [],
   "source": [
    "from pyspark.sql import *"
   ]
  },
  {
   "cell_type": "markdown",
   "id": "b18e1447",
   "metadata": {},
   "source": [
    "## windowing agg"
   ]
  },
  {
   "cell_type": "code",
   "execution_count": 45,
   "id": "6efca846",
   "metadata": {},
   "outputs": [],
   "source": [
    "order_df = spark.read \\\n",
    ".format(\"csv\") \\\n",
    ".option(\"inferSchema\", \"true\") \\\n",
    ".option(\"header\", \"true\") \\\n",
    ".load(\"source_file_path\")"
   ]
  },
  {
   "cell_type": "code",
   "execution_count": 46,
   "id": "8ee8f2e3",
   "metadata": {},
   "outputs": [
    {
     "name": "stdout",
     "output_type": "stream",
     "text": [
      "+--------------+-------+-----------+-------------+------------+\n",
      "|       country|weeknum|numinvoices|totalquantity|invoicevalue|\n",
      "+--------------+-------+-----------+-------------+------------+\n",
      "|         Spain|     49|          1|           67|      174.72|\n",
      "|       Germany|     48|         11|         1795|     3309.75|\n",
      "|     Lithuania|     48|          3|          622|     1598.06|\n",
      "|       Germany|     49|         12|         1852|     4521.39|\n",
      "|       Bahrain|     51|          1|           54|      205.74|\n",
      "|       Iceland|     49|          1|          319|      711.79|\n",
      "|         India|     51|          5|           95|      276.84|\n",
      "|     Australia|     50|          2|          133|      387.95|\n",
      "|         Italy|     49|          1|           -2|       -17.0|\n",
      "|         India|     49|          5|         1280|      3284.1|\n",
      "|         Spain|     50|          2|          400|     1049.01|\n",
      "|United Kingdom|     51|        200|        28782|    75103.46|\n",
      "|        Norway|     49|          1|         1730|     1867.98|\n",
      "|United Kingdom|     48|        478|        68865|   166116.72|\n",
      "|        France|     51|          5|          847|     1702.87|\n",
      "|      Portugal|     49|          4|          726|     1844.67|\n",
      "|         Spain|     48|          1|          400|       620.0|\n",
      "|         India|     48|          7|         2822|     3147.23|\n",
      "|       Germany|     50|         15|         1973|     5065.79|\n",
      "|         Italy|     51|          1|          131|       383.7|\n",
      "+--------------+-------+-----------+-------------+------------+\n",
      "only showing top 20 rows\n",
      "\n"
     ]
    }
   ],
   "source": [
    "order_df.show()"
   ]
  },
  {
   "cell_type": "code",
   "execution_count": 47,
   "id": "0c47a989",
   "metadata": {},
   "outputs": [],
   "source": [
    "mywindow = Window.partitionBy(\"country\") \\\n",
    ".orderBy(\"weeknum\") \\\n",
    ".rowsBetween(Window.unboundedPreceding, Window.currentRow)"
   ]
  },
  {
   "cell_type": "code",
   "execution_count": 48,
   "id": "e1dfedd0",
   "metadata": {},
   "outputs": [],
   "source": [
    "result_df = order_df.withColumn(\"running_total\", sum(\"invoicevalue\").over(mywindow))"
   ]
  },
  {
   "cell_type": "code",
   "execution_count": 49,
   "id": "bbe100b8",
   "metadata": {},
   "outputs": [
    {
     "name": "stdout",
     "output_type": "stream",
     "text": [
      "+-------+-------+-----------+-------------+------------+------------------+\n",
      "|country|weeknum|numinvoices|totalquantity|invoicevalue|     running_total|\n",
      "+-------+-------+-----------+-------------+------------+------------------+\n",
      "| Sweden|     50|          3|         3714|      2646.3|            2646.3|\n",
      "|Germany|     48|         11|         1795|     3309.75|           3309.75|\n",
      "|Germany|     49|         12|         1852|     4521.39|           7831.14|\n",
      "|Germany|     50|         15|         1973|     5065.79|          12896.93|\n",
      "|Germany|     51|          5|         1103|     1665.91|          14562.84|\n",
      "| France|     48|          4|         1299|     2808.16|           2808.16|\n",
      "| France|     49|          9|         2303|     4527.01|           7335.17|\n",
      "| France|     50|          6|          529|      537.32|           7872.49|\n",
      "| France|     51|          5|          847|     1702.87|           9575.36|\n",
      "|Belgium|     48|          1|          528|       346.1|             346.1|\n",
      "|Belgium|     50|          2|          285|      625.16|            971.26|\n",
      "|Belgium|     51|          2|          942|      838.65|1809.9099999999999|\n",
      "|Finland|     50|          1|         1254|       892.8|             892.8|\n",
      "|  India|     48|          7|         2822|     3147.23|           3147.23|\n",
      "|  India|     49|          5|         1280|      3284.1|           6431.33|\n",
      "|  India|     50|          5|         1184|     2321.78|           8753.11|\n",
      "|  India|     51|          5|           95|      276.84|           9029.95|\n",
      "|  Italy|     48|          1|          164|       427.8|             427.8|\n",
      "|  Italy|     49|          1|           -2|       -17.0|             410.8|\n",
      "|  Italy|     51|          1|          131|       383.7|             794.5|\n",
      "+-------+-------+-----------+-------------+------------+------------------+\n",
      "only showing top 20 rows\n",
      "\n"
     ]
    }
   ],
   "source": [
    "result_df.show()"
   ]
  },
  {
   "cell_type": "code",
   "execution_count": 42,
   "id": "949210c6",
   "metadata": {},
   "outputs": [],
   "source": [
    "spark.stop()"
   ]
  },
  {
   "cell_type": "markdown",
   "id": "18da7964",
   "metadata": {},
   "source": [
    "## window functions"
   ]
  },
  {
   "cell_type": "code",
   "execution_count": 50,
   "id": "705155c1",
   "metadata": {},
   "outputs": [],
   "source": [
    "order_df = spark.read \\\n",
    ".format(\"csv\") \\\n",
    ".option(\"inferSchema\", \"true\") \\\n",
    ".option(\"header\", \"true\") \\\n",
    ".load(\"source_file_path\")"
   ]
  },
  {
   "cell_type": "code",
   "execution_count": 51,
   "id": "14d91de0",
   "metadata": {},
   "outputs": [
    {
     "name": "stdout",
     "output_type": "stream",
     "text": [
      "+--------------+-------+-----------+-------------+------------+\n",
      "|       country|weeknum|numinvoices|totalquantity|invoicevalue|\n",
      "+--------------+-------+-----------+-------------+------------+\n",
      "|         Spain|     49|          1|           67|      174.72|\n",
      "|       Germany|     48|         11|         1795|      1600.0|\n",
      "|     Lithuania|     48|          3|          622|     1598.06|\n",
      "|       Germany|     49|         12|         1852|      1800.0|\n",
      "|       Bahrain|     51|          1|           54|      205.74|\n",
      "|       Iceland|     49|          1|          319|      711.79|\n",
      "|         India|     51|          5|           95|       300.0|\n",
      "|     Australia|     50|          2|          133|      387.95|\n",
      "|         Italy|     49|          1|           -2|       -17.0|\n",
      "|         India|     49|          5|         1280|      3284.1|\n",
      "|         Spain|     50|          2|          400|     1049.01|\n",
      "|United Kingdom|     51|        200|        28782|    75103.46|\n",
      "|        Norway|     49|          1|         1730|     1867.98|\n",
      "|United Kingdom|     48|        478|        68865|   166116.72|\n",
      "|        France|     51|          5|          847|       500.0|\n",
      "|      Portugal|     49|          4|          726|     1844.67|\n",
      "|         Spain|     48|          1|          400|       620.0|\n",
      "|         India|     48|          7|         2822|       300.0|\n",
      "|       Germany|     50|         15|         1973|      1800.0|\n",
      "|         Italy|     51|          1|          131|       383.7|\n",
      "+--------------+-------+-----------+-------------+------------+\n",
      "only showing top 20 rows\n",
      "\n"
     ]
    }
   ],
   "source": [
    "order_df.show()"
   ]
  },
  {
   "cell_type": "code",
   "execution_count": null,
   "id": "749b113e",
   "metadata": {},
   "outputs": [],
   "source": [
    "mywindow = Window.partitionBy(\"country\") \\\n",
    ".orderBy(\"weeknum\") \\\n",
    ".rowsBetween(Window.unboundedPreceding, Window.currentRow)"
   ]
  }
 ],
 "metadata": {
  "kernelspec": {
   "display_name": "Pyspark 3",
   "language": "python",
   "name": "pyspark3"
  },
  "language_info": {
   "codemirror_mode": {
    "name": "ipython",
    "version": 3
   },
   "file_extension": ".py",
   "mimetype": "text/x-python",
   "name": "python",
   "nbconvert_exporter": "python",
   "pygments_lexer": "ipython3",
   "version": "3.6.12"
  }
 },
 "nbformat": 4,
 "nbformat_minor": 5
}
