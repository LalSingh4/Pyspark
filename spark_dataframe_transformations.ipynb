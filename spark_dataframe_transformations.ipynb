{
 "cells": [
  {
   "cell_type": "code",
   "execution_count": 16,
   "id": "ea3423cf",
   "metadata": {},
   "outputs": [],
   "source": [
    "from pyspark.sql import SparkSession\n",
    "import getpass\n",
    "username=getpass.getuser()\n",
    "spark=SparkSession.\\\n",
    "    builder.\\\n",
    "    config('spark.ui.port','0').\\\n",
    "    config(\"spark.sql.warehouse.dir\",f\"/user/{username}/warehouse\").\\\n",
    "    enableHiveSupport().\\\n",
    "    master('yarn').\\\n",
    "    getOrCreate()"
   ]
  },
  {
   "cell_type": "code",
   "execution_count": 2,
   "id": "5be12607",
   "metadata": {},
   "outputs": [],
   "source": [
    "df = spark.read \\\n",
    ".format(\"csv\") \\\n",
    ".option(\"header\",\"true\") \\\n",
    ".option(\"inferSchema\",\"true\") \\\n",
    ".load(\"source_file_path\")"
   ]
  },
  {
   "cell_type": "code",
   "execution_count": 3,
   "id": "a55e8bf2",
   "metadata": {},
   "outputs": [
    {
     "name": "stdout",
     "output_type": "stream",
     "text": [
      "+--------+--------------------+-----------+---------------+\n",
      "|order_id|          order_date|customer_id|   order_status|\n",
      "+--------+--------------------+-----------+---------------+\n",
      "|       1|2013-07-25 00:00:...|      11599|         CLOSED|\n",
      "|       2|2013-07-25 00:00:...|        256|PENDING_PAYMENT|\n",
      "|       3|2013-07-25 00:00:...|      12111|       COMPLETE|\n",
      "|       4|2013-07-25 00:00:...|       8827|         CLOSED|\n",
      "|       5|2013-07-25 00:00:...|      11318|       COMPLETE|\n",
      "+--------+--------------------+-----------+---------------+\n",
      "only showing top 5 rows\n",
      "\n"
     ]
    }
   ],
   "source": [
    "df.show(5)"
   ]
  },
  {
   "cell_type": "code",
   "execution_count": 5,
   "id": "ce10a3a8",
   "metadata": {},
   "outputs": [
    {
     "name": "stdout",
     "output_type": "stream",
     "text": [
      "root\n",
      " |-- order_id: integer (nullable = true)\n",
      " |-- order_date: string (nullable = true)\n",
      " |-- customer_id: integer (nullable = true)\n",
      " |-- order_status: string (nullable = true)\n",
      "\n"
     ]
    }
   ],
   "source": [
    "df.printSchema()"
   ]
  },
  {
   "cell_type": "markdown",
   "id": "11780cd1",
   "metadata": {},
   "source": [
    "## Schema enforcement"
   ]
  },
  {
   "cell_type": "code",
   "execution_count": 6,
   "id": "1a2c9fac",
   "metadata": {},
   "outputs": [],
   "source": [
    "df = spark.read \\\n",
    ".format(\"csv\") \\\n",
    ".load(\"source_file_path\")"
   ]
  },
  {
   "cell_type": "code",
   "execution_count": 7,
   "id": "23bc906d",
   "metadata": {},
   "outputs": [
    {
     "name": "stdout",
     "output_type": "stream",
     "text": [
      "+---+----------+-----+---------------+\n",
      "|_c0|       _c1|  _c2|            _c3|\n",
      "+---+----------+-----+---------------+\n",
      "|  1|2013-07-25|11599|         CLOSED|\n",
      "|  2|2013-07-25|  256|PENDING_PAYMENT|\n",
      "|  3|2013-07-25|12111|       COMPLETE|\n",
      "|  4|2013-07-25| 8827|         CLOSED|\n",
      "|  5|2013-07-25|11318|       COMPLETE|\n",
      "|  6|2013-07-25| 7130|       COMPLETE|\n",
      "|  7|2013-07-25| 4530|       COMPLETE|\n",
      "|  8|2013-07-25| 2911|     PROCESSING|\n",
      "|  9|2013-07-25| 5657|PENDING_PAYMENT|\n",
      "| 10|2013-07-25| 5648|PENDING_PAYMENT|\n",
      "+---+----------+-----+---------------+\n",
      "\n"
     ]
    }
   ],
   "source": [
    "df.show()"
   ]
  },
  {
   "cell_type": "code",
   "execution_count": 5,
   "id": "9496a3a6",
   "metadata": {},
   "outputs": [],
   "source": [
    "#schema enforcement method1\n",
    "orders_schema = 'order_id long, order_date date, cust_id long, order_status string'"
   ]
  },
  {
   "cell_type": "code",
   "execution_count": 6,
   "id": "a9277b8c",
   "metadata": {},
   "outputs": [],
   "source": [
    "df = spark.read \\\n",
    ".format(\"csv\") \\\n",
    ".schema(orders_schema) \\\n",
    ".load(\"source_file_path\")"
   ]
  },
  {
   "cell_type": "code",
   "execution_count": 11,
   "id": "29eb9eee",
   "metadata": {},
   "outputs": [
    {
     "name": "stdout",
     "output_type": "stream",
     "text": [
      "+--------+----------+-------+---------------+\n",
      "|order_id|order_date|cust_id|   order_status|\n",
      "+--------+----------+-------+---------------+\n",
      "|       1|2013-07-25|  11599|         CLOSED|\n",
      "|       2|2013-07-25|    256|PENDING_PAYMENT|\n",
      "|       3|2013-07-25|  12111|       COMPLETE|\n",
      "|       4|2013-07-25|   8827|         CLOSED|\n",
      "|       5|2013-07-25|  11318|       COMPLETE|\n",
      "|       6|2013-07-25|   7130|       COMPLETE|\n",
      "|       7|2013-07-25|   4530|       COMPLETE|\n",
      "|       8|2013-07-25|   2911|     PROCESSING|\n",
      "|       9|2013-07-25|   5657|PENDING_PAYMENT|\n",
      "|      10|2013-07-25|   5648|PENDING_PAYMENT|\n",
      "+--------+----------+-------+---------------+\n",
      "\n"
     ]
    }
   ],
   "source": [
    "df.show()"
   ]
  },
  {
   "cell_type": "code",
   "execution_count": 12,
   "id": "3e44494b",
   "metadata": {},
   "outputs": [
    {
     "name": "stdout",
     "output_type": "stream",
     "text": [
      "root\n",
      " |-- order_id: long (nullable = true)\n",
      " |-- order_date: date (nullable = true)\n",
      " |-- cust_id: long (nullable = true)\n",
      " |-- order_status: string (nullable = true)\n",
      "\n"
     ]
    }
   ],
   "source": [
    "df.printSchema()"
   ]
  },
  {
   "cell_type": "markdown",
   "id": "8b096d39",
   "metadata": {},
   "source": [
    "## Dealing with date format"
   ]
  },
  {
   "cell_type": "code",
   "execution_count": 8,
   "id": "c0e46099",
   "metadata": {},
   "outputs": [],
   "source": [
    "orders_schema = 'order_id long, order_date date, cust_id long, order_status string'"
   ]
  },
  {
   "cell_type": "code",
   "execution_count": 18,
   "id": "17b65469",
   "metadata": {},
   "outputs": [],
   "source": [
    "df = spark.read \\\n",
    ".format(\"csv\") \\\n",
    ".schema(orders_schema) \\\n",
    ".option(\"dateFormat\", \"MM-dd-yyyy\") \\\n",
    ".load(\"source_file_path\")"
   ]
  },
  {
   "cell_type": "code",
   "execution_count": 19,
   "id": "dbdfdec8",
   "metadata": {},
   "outputs": [
    {
     "name": "stdout",
     "output_type": "stream",
     "text": [
      "+--------+----------+-------+---------------+\n",
      "|order_id|order_date|cust_id|   order_status|\n",
      "+--------+----------+-------+---------------+\n",
      "|       1|2013-07-25|  11599|         CLOSED|\n",
      "|       2|2013-07-25|    256|PENDING_PAYMENT|\n",
      "|       3|2013-07-25|  12111|       COMPLETE|\n",
      "|       4|2013-07-25|   8827|         CLOSED|\n",
      "|       5|2013-07-25|  11318|       COMPLETE|\n",
      "|       6|2013-07-25|   7130|       COMPLETE|\n",
      "|       7|2013-07-25|   4530|       COMPLETE|\n",
      "|       8|2013-07-25|   2911|     PROCESSING|\n",
      "|       9|2013-07-25|   5657|PENDING_PAYMENT|\n",
      "|      10|2013-07-25|   5648|PENDING_PAYMENT|\n",
      "+--------+----------+-------+---------------+\n",
      "\n"
     ]
    }
   ],
   "source": [
    "df.show()"
   ]
  },
  {
   "cell_type": "markdown",
   "id": "a9b2954b",
   "metadata": {},
   "source": [
    "## Using string "
   ]
  },
  {
   "cell_type": "code",
   "execution_count": 47,
   "id": "2d2d3d90",
   "metadata": {},
   "outputs": [],
   "source": [
    "orders_schema = 'order_id long, order_date string, cust_id long, order_status string'"
   ]
  },
  {
   "cell_type": "code",
   "execution_count": 17,
   "id": "eb874f77",
   "metadata": {},
   "outputs": [],
   "source": [
    "from pyspark.sql.functions import *"
   ]
  },
  {
   "cell_type": "code",
   "execution_count": 49,
   "id": "32b592b8",
   "metadata": {},
   "outputs": [],
   "source": [
    "df = spark.read \\\n",
    ".format(\"csv\") \\\n",
    ".schema(orders_schema) \\\n",
    ".load(\"source_file_path\")"
   ]
  },
  {
   "cell_type": "code",
   "execution_count": 50,
   "id": "7473f6ce",
   "metadata": {},
   "outputs": [],
   "source": [
    "new_date = df.withColumn(\"order_date_new\",to_date(\"order_date\",\"MM-dd-yyyy\"))"
   ]
  },
  {
   "cell_type": "code",
   "execution_count": 52,
   "id": "4e8508f0",
   "metadata": {},
   "outputs": [
    {
     "name": "stdout",
     "output_type": "stream",
     "text": [
      "+--------+----------+-------+---------------+--------------+\n",
      "|order_id|order_date|cust_id|   order_status|order_date_new|\n",
      "+--------+----------+-------+---------------+--------------+\n",
      "|       1|07-25-2013|  11599|         CLOSED|    2013-07-25|\n",
      "|       2|07-25-2013|    256|PENDING_PAYMENT|    2013-07-25|\n",
      "|       3|07-25-2013|  12111|       COMPLETE|    2013-07-25|\n",
      "|       4|07-25-2013|   8827|         CLOSED|    2013-07-25|\n",
      "|       5|07-25-2013|  11318|       COMPLETE|    2013-07-25|\n",
      "|       6|07-25-2013|   7130|       COMPLETE|    2013-07-25|\n",
      "|       7|07-25-2013|   4530|       COMPLETE|    2013-07-25|\n",
      "|       8|07-25-2013|   2911|     PROCESSING|    2013-07-25|\n",
      "|       9|07-25-2013|   5657|PENDING_PAYMENT|    2013-07-25|\n",
      "|      10|07-25-2013|   5648|PENDING_PAYMENT|    2013-07-25|\n",
      "+--------+----------+-------+---------------+--------------+\n",
      "\n"
     ]
    }
   ],
   "source": [
    "new_date.show()"
   ]
  },
  {
   "cell_type": "code",
   "execution_count": 33,
   "id": "3a95a484",
   "metadata": {},
   "outputs": [
    {
     "name": "stdout",
     "output_type": "stream",
     "text": [
      "root\n",
      " |-- order_id: long (nullable = true)\n",
      " |-- order_date: string (nullable = true)\n",
      " |-- cust_id: long (nullable = true)\n",
      " |-- order_status: string (nullable = true)\n",
      " |-- order_date_new: date (nullable = true)\n",
      "\n"
     ]
    }
   ],
   "source": [
    "new_date.printSchema()"
   ]
  },
  {
   "cell_type": "code",
   "execution_count": 57,
   "id": "1066a8c7",
   "metadata": {},
   "outputs": [],
   "source": [
    "spark.stop()"
   ]
  },
  {
   "cell_type": "markdown",
   "id": "6794edfa",
   "metadata": {},
   "source": [
    "## Types of mode"
   ]
  },
  {
   "cell_type": "code",
   "execution_count": 59,
   "id": "777e1ec2",
   "metadata": {},
   "outputs": [],
   "source": [
    "orders_schema = 'order_id long, order_date string, cust_id long, order_status string'"
   ]
  },
  {
   "cell_type": "code",
   "execution_count": 64,
   "id": "45cd8639",
   "metadata": {},
   "outputs": [],
   "source": [
    "df = spark.read \\\n",
    ".format(\"csv\") \\\n",
    ".schema(orders_schema) \\\n",
    ".option(\"mode\", \"dropmalformed\") \\\n",
    ".load(\"/public/trendytech/datasets/orders_sample3.csv\")"
   ]
  },
  {
   "cell_type": "code",
   "execution_count": 65,
   "id": "e3d35bd2",
   "metadata": {},
   "outputs": [
    {
     "name": "stdout",
     "output_type": "stream",
     "text": [
      "+--------+----------+-------+---------------+\n",
      "|order_id|order_date|cust_id|   order_status|\n",
      "+--------+----------+-------+---------------+\n",
      "|       1|2013-07-25|  11599|         CLOSED|\n",
      "|       2|2013-07-25|    256|PENDING_PAYMENT|\n",
      "|       3|2013-07-25|  12111|       COMPLETE|\n",
      "|       4|2013-07-25|   8827|         CLOSED|\n",
      "|       5|2013-07-25|  11318|       COMPLETE|\n",
      "|       6|2013-07-25|   7130|       COMPLETE|\n",
      "|       8|2013-07-25|   2911|     PROCESSING|\n",
      "|      10|2013-07-25|   5648|PENDING_PAYMENT|\n",
      "+--------+----------+-------+---------------+\n",
      "\n"
     ]
    }
   ],
   "source": [
    "df.show()"
   ]
  },
  {
   "cell_type": "markdown",
   "id": "d9938ec0",
   "metadata": {},
   "source": [
    "## Ways of creating dataframe"
   ]
  },
  {
   "cell_type": "code",
   "execution_count": 66,
   "id": "6625c9fc",
   "metadata": {},
   "outputs": [],
   "source": [
    "# 1 is spark.read()"
   ]
  },
  {
   "cell_type": "code",
   "execution_count": 67,
   "id": "73e68d89",
   "metadata": {},
   "outputs": [],
   "source": [
    "# 2 is spark.sql()"
   ]
  },
  {
   "cell_type": "code",
   "execution_count": 68,
   "id": "958613ab",
   "metadata": {},
   "outputs": [],
   "source": [
    "# 3 is spark.table()"
   ]
  },
  {
   "cell_type": "code",
   "execution_count": 69,
   "id": "77750019",
   "metadata": {},
   "outputs": [],
   "source": [
    "# 4 is spark.range()"
   ]
  },
  {
   "cell_type": "code",
   "execution_count": 70,
   "id": "f7395aeb",
   "metadata": {},
   "outputs": [],
   "source": [
    "# 5 is spark.createDataFrame"
   ]
  },
  {
   "cell_type": "markdown",
   "id": "a5360e83",
   "metadata": {},
   "source": [
    "##  how to deal with nested schema"
   ]
  },
  {
   "cell_type": "code",
   "execution_count": 78,
   "id": "d7da7a5e",
   "metadata": {},
   "outputs": [],
   "source": [
    "ddlschema = \"customer_id long, fullname struct<firstname:string, lastname:string>, city string\""
   ]
  },
  {
   "cell_type": "code",
   "execution_count": 79,
   "id": "d0b43180",
   "metadata": {},
   "outputs": [],
   "source": [
    "df = spark.read \\\n",
    ".format(\"json\") \\\n",
    ".schema(ddlschema) \\\n",
    ".load(\"source_file_path\")"
   ]
  },
  {
   "cell_type": "code",
   "execution_count": 80,
   "id": "b269af67",
   "metadata": {},
   "outputs": [
    {
     "name": "stdout",
     "output_type": "stream",
     "text": [
      "+-----------+----------------+---------+\n",
      "|customer_id|        fullname|     city|\n",
      "+-----------+----------------+---------+\n",
      "|          2|    {ram, kumar}|hyderabad|\n",
      "|          3|{vijay, shankar}|     pune|\n",
      "|          1| {sumit, mittal}|bangalore|\n",
      "+-----------+----------------+---------+\n",
      "\n"
     ]
    }
   ],
   "source": [
    "df.show()"
   ]
  },
  {
   "cell_type": "code",
   "execution_count": 76,
   "id": "780bfddd",
   "metadata": {},
   "outputs": [],
   "source": [
    "spark.stop()"
   ]
  },
  {
   "cell_type": "markdown",
   "id": "cf08d370",
   "metadata": {},
   "source": [
    "## select v/s selectExpr"
   ]
  },
  {
   "cell_type": "code",
   "execution_count": 82,
   "id": "5888422f",
   "metadata": {},
   "outputs": [],
   "source": [
    "raw_df = spark.read \\\n",
    ".format(\"csv\") \\\n",
    ".option(\"inferschema\", \"true\") \\\n",
    ".load(\"source_file_path\")"
   ]
  },
  {
   "cell_type": "code",
   "execution_count": 85,
   "id": "9b911af8",
   "metadata": {},
   "outputs": [],
   "source": [
    "col_df = raw_df.toDF(\"order_item_id\",\"order_id\",\"product_id\",\"quantity\",\"subtotal\",\"product_price\")"
   ]
  },
  {
   "cell_type": "code",
   "execution_count": 88,
   "id": "af995b66",
   "metadata": {},
   "outputs": [
    {
     "name": "stdout",
     "output_type": "stream",
     "text": [
      "+-------------+--------+----------+--------+--------+-------------+\n",
      "|order_item_id|order_id|product_id|quantity|subtotal|product_price|\n",
      "+-------------+--------+----------+--------+--------+-------------+\n",
      "|            1|       1|       957|       1|  299.98|       299.98|\n",
      "|            2|       2|      1073|       1|  199.99|       199.99|\n",
      "|            3|       2|       502|       5|   250.0|         50.0|\n",
      "|            4|       2|       403|       1|  129.99|       129.99|\n",
      "|            5|       4|       897|       2|   49.98|        24.99|\n",
      "+-------------+--------+----------+--------+--------+-------------+\n",
      "only showing top 5 rows\n",
      "\n"
     ]
    }
   ],
   "source": [
    "col_df.show(5)"
   ]
  },
  {
   "cell_type": "code",
   "execution_count": 89,
   "id": "8a562ce9",
   "metadata": {},
   "outputs": [],
   "source": [
    "df = col_df.drop(\"subtotal\")"
   ]
  },
  {
   "cell_type": "code",
   "execution_count": 90,
   "id": "3732f86f",
   "metadata": {},
   "outputs": [
    {
     "name": "stdout",
     "output_type": "stream",
     "text": [
      "+-------------+--------+----------+--------+-------------+\n",
      "|order_item_id|order_id|product_id|quantity|product_price|\n",
      "+-------------+--------+----------+--------+-------------+\n",
      "|            1|       1|       957|       1|       299.98|\n",
      "|            2|       2|      1073|       1|       199.99|\n",
      "|            3|       2|       502|       5|         50.0|\n",
      "|            4|       2|       403|       1|       129.99|\n",
      "|            5|       4|       897|       2|        24.99|\n",
      "+-------------+--------+----------+--------+-------------+\n",
      "only showing top 5 rows\n",
      "\n"
     ]
    }
   ],
   "source": [
    "df.show(5)"
   ]
  },
  {
   "cell_type": "code",
   "execution_count": null,
   "id": "1c744950",
   "metadata": {},
   "outputs": [],
   "source": [
    "df.select(\"*\", \"product_price * quantity as subtotal\").show()"
   ]
  },
  {
   "cell_type": "code",
   "execution_count": 94,
   "id": "6517884e",
   "metadata": {},
   "outputs": [
    {
     "name": "stdout",
     "output_type": "stream",
     "text": [
      "+-------------+--------+----------+--------+-------------+--------+\n",
      "|order_item_id|order_id|product_id|quantity|product_price|subtotal|\n",
      "+-------------+--------+----------+--------+-------------+--------+\n",
      "|            1|       1|       957|       1|       299.98|  299.98|\n",
      "|            2|       2|      1073|       1|       199.99|  199.99|\n",
      "|            3|       2|       502|       5|         50.0|   250.0|\n",
      "|            4|       2|       403|       1|       129.99|  129.99|\n",
      "|            5|       4|       897|       2|        24.99|   49.98|\n",
      "|            6|       4|       365|       5|        59.99|  299.95|\n",
      "|            7|       4|       502|       3|         50.0|   150.0|\n",
      "|            8|       4|      1014|       4|        49.98|  199.92|\n",
      "|            9|       5|       957|       1|       299.98|  299.98|\n",
      "|           10|       5|       365|       5|        59.99|  299.95|\n",
      "|           11|       5|      1014|       2|        49.98|   99.96|\n",
      "|           12|       5|       957|       1|       299.98|  299.98|\n",
      "|           13|       5|       403|       1|       129.99|  129.99|\n",
      "|           14|       7|      1073|       1|       199.99|  199.99|\n",
      "|           15|       7|       957|       1|       299.98|  299.98|\n",
      "|           16|       7|       926|       5|        15.99|   79.95|\n",
      "|           17|       8|       365|       3|        59.99|  179.97|\n",
      "|           18|       8|       365|       5|        59.99|  299.95|\n",
      "|           19|       8|      1014|       4|        49.98|  199.92|\n",
      "|           20|       8|       502|       1|         50.0|    50.0|\n",
      "+-------------+--------+----------+--------+-------------+--------+\n",
      "only showing top 20 rows\n",
      "\n"
     ]
    }
   ],
   "source": [
    "# using expr\n",
    "df.select(\"*\",expr(\"product_price * quantity as subtotal\")).show()"
   ]
  },
  {
   "cell_type": "code",
   "execution_count": 95,
   "id": "c9a268db",
   "metadata": {},
   "outputs": [
    {
     "name": "stdout",
     "output_type": "stream",
     "text": [
      "+-------------+--------+----------+--------+-------------+--------+\n",
      "|order_item_id|order_id|product_id|quantity|product_price|subtotal|\n",
      "+-------------+--------+----------+--------+-------------+--------+\n",
      "|            1|       1|       957|       1|       299.98|  299.98|\n",
      "|            2|       2|      1073|       1|       199.99|  199.99|\n",
      "|            3|       2|       502|       5|         50.0|   250.0|\n",
      "|            4|       2|       403|       1|       129.99|  129.99|\n",
      "|            5|       4|       897|       2|        24.99|   49.98|\n",
      "|            6|       4|       365|       5|        59.99|  299.95|\n",
      "|            7|       4|       502|       3|         50.0|   150.0|\n",
      "|            8|       4|      1014|       4|        49.98|  199.92|\n",
      "|            9|       5|       957|       1|       299.98|  299.98|\n",
      "|           10|       5|       365|       5|        59.99|  299.95|\n",
      "|           11|       5|      1014|       2|        49.98|   99.96|\n",
      "|           12|       5|       957|       1|       299.98|  299.98|\n",
      "|           13|       5|       403|       1|       129.99|  129.99|\n",
      "|           14|       7|      1073|       1|       199.99|  199.99|\n",
      "|           15|       7|       957|       1|       299.98|  299.98|\n",
      "|           16|       7|       926|       5|        15.99|   79.95|\n",
      "|           17|       8|       365|       3|        59.99|  179.97|\n",
      "|           18|       8|       365|       5|        59.99|  299.95|\n",
      "|           19|       8|      1014|       4|        49.98|  199.92|\n",
      "|           20|       8|       502|       1|         50.0|    50.0|\n",
      "+-------------+--------+----------+--------+-------------+--------+\n",
      "only showing top 20 rows\n",
      "\n"
     ]
    }
   ],
   "source": [
    "#using selectExpr\n",
    "df.selectExpr(\"*\",\"product_price * quantity as subtotal\").show()"
   ]
  },
  {
   "cell_type": "code",
   "execution_count": 18,
   "id": "7d87cc1d",
   "metadata": {},
   "outputs": [],
   "source": [
    "product_df = spark.read \\\n",
    ".format(\"csv\") \\\n",
    ".option(\"inferschema\", \"true\") \\\n",
    ".load(\"source_file_path\")"
   ]
  },
  {
   "cell_type": "code",
   "execution_count": 19,
   "id": "dab15b94",
   "metadata": {},
   "outputs": [
    {
     "name": "stdout",
     "output_type": "stream",
     "text": [
      "+---+---+--------------------+----+-----+--------------------+\n",
      "|_c0|_c1|                 _c2| _c3|  _c4|                 _c5|\n",
      "+---+---+--------------------+----+-----+--------------------+\n",
      "|  1|  2|Quest Q64 10 FT. ...|null|59.98|http://images.acm...|\n",
      "+---+---+--------------------+----+-----+--------------------+\n",
      "only showing top 1 row\n",
      "\n"
     ]
    }
   ],
   "source": [
    "product_df.show(1)"
   ]
  },
  {
   "cell_type": "code",
   "execution_count": 20,
   "id": "47449b5d",
   "metadata": {},
   "outputs": [],
   "source": [
    "df1 = product_df.toDF(\"poduct_id\",\"poduct_category_id\", \"poduct_name\", \"poduct_description\", \"poduct_price\", \"poduct_image\")"
   ]
  },
  {
   "cell_type": "code",
   "execution_count": 21,
   "id": "a3aade48",
   "metadata": {},
   "outputs": [
    {
     "name": "stdout",
     "output_type": "stream",
     "text": [
      "+---------+------------------+--------------------+------------------+------------+--------------------+\n",
      "|poduct_id|poduct_category_id|         poduct_name|poduct_description|poduct_price|        poduct_image|\n",
      "+---------+------------------+--------------------+------------------+------------+--------------------+\n",
      "|        1|                 2|Quest Q64 10 FT. ...|              null|       59.98|http://images.acm...|\n",
      "+---------+------------------+--------------------+------------------+------------+--------------------+\n",
      "only showing top 1 row\n",
      "\n"
     ]
    }
   ],
   "source": [
    "df1.show(1)"
   ]
  },
  {
   "cell_type": "code",
   "execution_count": 22,
   "id": "653a38b1",
   "metadata": {},
   "outputs": [],
   "source": [
    "df2 = df1.withColumn(\"poduct_price\", expr(\"poduct_price * 1.2\"))"
   ]
  },
  {
   "cell_type": "code",
   "execution_count": 23,
   "id": "0296986c",
   "metadata": {},
   "outputs": [
    {
     "name": "stdout",
     "output_type": "stream",
     "text": [
      "+---------+------------------+--------------------+------------------+------------------+--------------------+\n",
      "|poduct_id|poduct_category_id|         poduct_name|poduct_description|      poduct_price|        poduct_image|\n",
      "+---------+------------------+--------------------+------------------+------------------+--------------------+\n",
      "|        1|                 2|Quest Q64 10 FT. ...|              null|            71.976|http://images.acm...|\n",
      "|        2|                 2|Under Armour Men'...|              null|           155.988|http://images.acm...|\n",
      "|        3|                 2|Under Armour Men'...|              null|107.98799999999999|http://images.acm...|\n",
      "|        4|                 2|Under Armour Men'...|              null|107.98799999999999|http://images.acm...|\n",
      "|        5|                 2|Riddell Youth Rev...|              null|           239.988|http://images.acm...|\n",
      "|        6|                 2|Jordan Men's VI R...|              null|           161.988|http://images.acm...|\n",
      "|        7|                 2|Schutt Youth Recr...|              null|119.98799999999999|http://images.acm...|\n",
      "|        8|                 2|Nike Men's Vapor ...|              null|           155.988|http://images.acm...|\n",
      "|        9|                 2|Nike Adult Vapor ...|              null|              60.0|http://images.acm...|\n",
      "|       10|                 2|Under Armour Men'...|              null|           155.988|http://images.acm...|\n",
      "|       11|                 2|Fitness Gear 300 ...|              null|           251.988|http://images.acm...|\n",
      "|       12|                 2|Under Armour Men'...|              null|           167.988|http://images.acm...|\n",
      "|       13|                 2|Under Armour Men'...|              null|107.98799999999999|http://images.acm...|\n",
      "|       14|                 2|Quik Shade Summit...|              null|           239.988|http://images.acm...|\n",
      "|       15|                 2|Under Armour Kids...|              null|            71.988|http://images.acm...|\n",
      "|       16|                 2|Riddell Youth 360...|              null|           359.988|http://images.acm...|\n",
      "|       17|                 2|Under Armour Men'...|              null|           155.988|http://images.acm...|\n",
      "|       18|                 2|Reebok Men's Full...|              null|            35.964|http://images.acm...|\n",
      "|       19|                 2|Nike Men's Finger...|              null|           149.988|http://images.acm...|\n",
      "|       20|                 2|Under Armour Men'...|              null|           155.988|http://images.acm...|\n",
      "+---------+------------------+--------------------+------------------+------------------+--------------------+\n",
      "only showing top 20 rows\n",
      "\n"
     ]
    }
   ],
   "source": [
    "df2.show()"
   ]
  },
  {
   "cell_type": "markdown",
   "id": "1671f263",
   "metadata": {},
   "source": [
    "## How to remove duplicate record from dataframe"
   ]
  },
  {
   "cell_type": "code",
   "execution_count": 24,
   "id": "fe9d80ec",
   "metadata": {},
   "outputs": [],
   "source": [
    "my_list = [\n",
    "    (1, \"A\", 34),\n",
    "    (1, \"A\", 34),\n",
    "    (1, \"B\", 26),\n",
    "    (2, \"B\", 26),\n",
    "]\n"
   ]
  },
  {
   "cell_type": "code",
   "execution_count": 25,
   "id": "1c2061a4",
   "metadata": {},
   "outputs": [],
   "source": [
    "df = spark.createDataFrame(my_list).toDF(\"id\",\"name\",\"age\")"
   ]
  },
  {
   "cell_type": "code",
   "execution_count": 26,
   "id": "9aa8637c",
   "metadata": {},
   "outputs": [
    {
     "name": "stdout",
     "output_type": "stream",
     "text": [
      "+---+----+---+\n",
      "| id|name|age|\n",
      "+---+----+---+\n",
      "|  1|   A| 34|\n",
      "|  1|   A| 34|\n",
      "|  1|   B| 26|\n",
      "|  2|   B| 26|\n",
      "+---+----+---+\n",
      "\n"
     ]
    }
   ],
   "source": [
    "df.show()"
   ]
  },
  {
   "cell_type": "code",
   "execution_count": 28,
   "id": "350b539c",
   "metadata": {},
   "outputs": [
    {
     "name": "stdout",
     "output_type": "stream",
     "text": [
      "+---+----+---+\n",
      "| id|name|age|\n",
      "+---+----+---+\n",
      "|  1|   B| 26|\n",
      "|  1|   A| 34|\n",
      "|  2|   B| 26|\n",
      "+---+----+---+\n",
      "\n"
     ]
    }
   ],
   "source": [
    "df2 = df.distinct().show()"
   ]
  },
  {
   "cell_type": "markdown",
   "id": "7c3ad290",
   "metadata": {},
   "source": [
    "## creating spark session"
   ]
  },
  {
   "cell_type": "code",
   "execution_count": 1,
   "id": "b2aae272",
   "metadata": {},
   "outputs": [],
   "source": [
    "from pyspark.sql import SparkSession"
   ]
  },
  {
   "cell_type": "code",
   "execution_count": 3,
   "id": "2ed0181f",
   "metadata": {},
   "outputs": [],
   "source": [
    "spark = SparkSession. \\\n",
    "builder. \\\n",
    "appName(\"spark session demo\"). \\\n",
    "config(\"spark.sql.warehouse.dir\",\"{username}warehouse\"). \\\n",
    "enableHiveSupport(). \\\n",
    "master('yarn'). \\\n",
    "getOrCreate()"
   ]
  }
 ],
 "metadata": {
  "kernelspec": {
   "display_name": "Pyspark 3",
   "language": "python",
   "name": "pyspark3"
  },
  "language_info": {
   "codemirror_mode": {
    "name": "ipython",
    "version": 3
   },
   "file_extension": ".py",
   "mimetype": "text/x-python",
   "name": "python",
   "nbconvert_exporter": "python",
   "pygments_lexer": "ipython3",
   "version": "3.6.12"
  }
 },
 "nbformat": 4,
 "nbformat_minor": 5
}
