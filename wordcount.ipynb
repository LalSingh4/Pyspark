{
 "cells": [
  {
   "cell_type": "code",
   "execution_count": 1,
   "id": "c64888bc",
   "metadata": {},
   "outputs": [],
   "source": [
    "from pyspark.sql import SparkSession\n",
    "import getpass\n",
    "username=getpass.getuser()\n",
    "spark=SparkSession.\\\n",
    "    builder.\\\n",
    "    config('spark.ui.port','0').\\\n",
    "    config(\"spark.sql.warehouse.dir\",f\"/user/{username}/warehouse\").\\\n",
    "    enableHiveSupport().\\\n",
    "    master('yarn').\\\n",
    "    getOrCreate()"
   ]
  },
  {
   "cell_type": "code",
   "execution_count": 5,
   "id": "53ceefb3",
   "metadata": {},
   "outputs": [
    {
     "data": {
      "text/html": [
       "\n",
       "            <div>\n",
       "                <p><b>SparkSession - hive</b></p>\n",
       "                \n",
       "        <div>\n",
       "            <p><b>SparkContext</b></p>\n",
       "\n",
       "            <p><a href=\"http://g02.itversity.com:35015\">Spark UI</a></p>\n",
       "\n",
       "            <dl>\n",
       "              <dt>Version</dt>\n",
       "                <dd><code>v3.1.2</code></dd>\n",
       "              <dt>Master</dt>\n",
       "                <dd><code>yarn</code></dd>\n",
       "              <dt>AppName</dt>\n",
       "                <dd><code>pyspark-shell</code></dd>\n",
       "            </dl>\n",
       "        </div>\n",
       "        \n",
       "            </div>\n",
       "        "
      ],
      "text/plain": [
       "<pyspark.sql.session.SparkSession at 0x7f60b96062b0>"
      ]
     },
     "execution_count": 5,
     "metadata": {},
     "output_type": "execute_result"
    }
   ],
   "source": [
    "spark"
   ]
  },
  {
   "cell_type": "code",
   "execution_count": 2,
   "id": "08017fc9",
   "metadata": {},
   "outputs": [],
   "source": [
    "rdd1 = spark.sparkContext.textFile(\"source_File_path\")"
   ]
  },
  {
   "cell_type": "code",
   "execution_count": 3,
   "id": "93602576",
   "metadata": {},
   "outputs": [],
   "source": [
    "rdd2 = rdd1.flatMap(lambda line : line.split(\" \"))"
   ]
  },
  {
   "cell_type": "code",
   "execution_count": 9,
   "id": "afe23067",
   "metadata": {},
   "outputs": [
    {
     "data": {
      "text/plain": [
       "['big',\n",
       " 'data',\n",
       " 'is',\n",
       " 'very',\n",
       " 'intersting',\n",
       " 'big',\n",
       " 'data',\n",
       " 'is',\n",
       " 'one',\n",
       " 'of',\n",
       " 'the',\n",
       " 'most',\n",
       " 'trending',\n",
       " 'technology',\n",
       " 'my',\n",
       " 'name',\n",
       " 'is',\n",
       " 'sing',\n",
       " 'and',\n",
       " 'i',\n",
       " 'am',\n",
       " 'learning',\n",
       " 'big',\n",
       " 'data',\n",
       " '']"
      ]
     },
     "execution_count": 9,
     "metadata": {},
     "output_type": "execute_result"
    }
   ],
   "source": [
    "rdd2.collect()"
   ]
  },
  {
   "cell_type": "code",
   "execution_count": 4,
   "id": "2ea8fa9f",
   "metadata": {},
   "outputs": [],
   "source": [
    "rdd3 = rdd2.map(lambda word : (word,1))"
   ]
  },
  {
   "cell_type": "code",
   "execution_count": 11,
   "id": "a830120f",
   "metadata": {},
   "outputs": [
    {
     "data": {
      "text/plain": [
       "[('big', 1),\n",
       " ('data', 1),\n",
       " ('is', 1),\n",
       " ('very', 1),\n",
       " ('intersting', 1),\n",
       " ('big', 1),\n",
       " ('data', 1),\n",
       " ('is', 1),\n",
       " ('one', 1),\n",
       " ('of', 1),\n",
       " ('the', 1),\n",
       " ('most', 1),\n",
       " ('trending', 1),\n",
       " ('technology', 1),\n",
       " ('my', 1),\n",
       " ('name', 1),\n",
       " ('is', 1),\n",
       " ('sing', 1),\n",
       " ('and', 1),\n",
       " ('i', 1),\n",
       " ('am', 1),\n",
       " ('learning', 1),\n",
       " ('big', 1),\n",
       " ('data', 1),\n",
       " ('', 1)]"
      ]
     },
     "execution_count": 11,
     "metadata": {},
     "output_type": "execute_result"
    }
   ],
   "source": [
    "rdd3.collect()"
   ]
  },
  {
   "cell_type": "code",
   "execution_count": 5,
   "id": "f052d7e1",
   "metadata": {},
   "outputs": [],
   "source": [
    "rdd4 = rdd3.reduceByKey(lambda x,y :x+y)"
   ]
  },
  {
   "cell_type": "code",
   "execution_count": 13,
   "id": "d0b2fc88",
   "metadata": {},
   "outputs": [
    {
     "data": {
      "text/plain": [
       "[('is', 3),\n",
       " ('very', 1),\n",
       " ('intersting', 1),\n",
       " ('of', 1),\n",
       " ('trending', 1),\n",
       " ('technology', 1),\n",
       " ('name', 1),\n",
       " ('sing', 1),\n",
       " ('i', 1),\n",
       " ('am', 1),\n",
       " ('learning', 1),\n",
       " ('', 1),\n",
       " ('my', 1),\n",
       " ('and', 1),\n",
       " ('big', 3),\n",
       " ('data', 3),\n",
       " ('one', 1),\n",
       " ('the', 1),\n",
       " ('most', 1)]"
      ]
     },
     "execution_count": 13,
     "metadata": {},
     "output_type": "execute_result"
    }
   ],
   "source": [
    "rdd4.collect()"
   ]
  },
  {
   "cell_type": "code",
   "execution_count": 6,
   "id": "8c62d9a3",
   "metadata": {},
   "outputs": [],
   "source": [
    "rdd4.saveAsTextFile(\"Destination_file_path\")"
   ]
  },
  {
   "cell_type": "code",
   "execution_count": null,
   "id": "ac0eb899",
   "metadata": {},
   "outputs": [],
   "source": []
  },
  {
   "cell_type": "code",
   "execution_count": null,
   "id": "6560ab61",
   "metadata": {},
   "outputs": [],
   "source": []
  }
 ],
 "metadata": {
  "kernelspec": {
   "display_name": "Pyspark 3",
   "language": "python",
   "name": "pyspark3"
  },
  "language_info": {
   "codemirror_mode": {
    "name": "ipython",
    "version": 3
   },
   "file_extension": ".py",
   "mimetype": "text/x-python",
   "name": "python",
   "nbconvert_exporter": "python",
   "pygments_lexer": "ipython3",
   "version": "3.6.12"
  }
 },
 "nbformat": 4,
 "nbformat_minor": 5
}
