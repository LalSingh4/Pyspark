{
 "cells": [
  {
   "cell_type": "code",
   "execution_count": 6,
   "id": "3a93e4b7",
   "metadata": {},
   "outputs": [],
   "source": [
    "# Boiler code\n",
    "from pyspark.sql import SparkSession\n",
    "import getpass\n",
    "username=getpass.getuser()\n",
    "spark=SparkSession.\\\n",
    "    builder.\\\n",
    "    config('spark.ui.port','0').\\\n",
    "    config(\"spark.sql.warehouse.dir\",f\"/user/{username}/warehouse\").\\\n",
    "    enableHiveSupport().\\\n",
    "    master('yarn').\\\n",
    "    getOrCreate()"
   ]
  },
  {
   "cell_type": "code",
   "execution_count": 8,
   "id": "637c853a",
   "metadata": {},
   "outputs": [],
   "source": [
    "orders_df = spark.read \\\n",
    ".format(\"csv\") \\\n",
    ".option(\"header\",\"true\") \\\n",
    ".option(\"inferSchema\",\"true\") \\\n",
    ".load(\"source_file_path\")"
   ]
  },
  {
   "cell_type": "code",
   "execution_count": 9,
   "id": "b8180119",
   "metadata": {},
   "outputs": [
    {
     "name": "stdout",
     "output_type": "stream",
     "text": [
      "+--------+--------------------+-----------+---------------+\n",
      "|order_id|          order_date|customer_id|   order_status|\n",
      "+--------+--------------------+-----------+---------------+\n",
      "|       1|2013-07-25 00:00:...|      11599|         CLOSED|\n",
      "|       2|2013-07-25 00:00:...|        256|PENDING_PAYMENT|\n",
      "|       3|2013-07-25 00:00:...|      12111|       COMPLETE|\n",
      "|       4|2013-07-25 00:00:...|       8827|         CLOSED|\n",
      "|       5|2013-07-25 00:00:...|      11318|       COMPLETE|\n",
      "+--------+--------------------+-----------+---------------+\n",
      "only showing top 5 rows\n",
      "\n"
     ]
    }
   ],
   "source": [
    "orders_df.show(5)"
   ]
  },
  {
   "cell_type": "code",
   "execution_count": 10,
   "id": "410fe456",
   "metadata": {},
   "outputs": [],
   "source": [
    "# Alternative To read csv file\n",
    "order = spark.read\\\n",
    ".csv(\"file_path\",header = \"true\",inferSchema = \"true\")"
   ]
  },
  {
   "cell_type": "code",
   "execution_count": 11,
   "id": "fb8885bc",
   "metadata": {},
   "outputs": [
    {
     "name": "stdout",
     "output_type": "stream",
     "text": [
      "+--------+--------------------+-----------+---------------+\n",
      "|order_id|          order_date|customer_id|   order_status|\n",
      "+--------+--------------------+-----------+---------------+\n",
      "|       1|2013-07-25 00:00:...|      11599|         CLOSED|\n",
      "|       2|2013-07-25 00:00:...|        256|PENDING_PAYMENT|\n",
      "|       3|2013-07-25 00:00:...|      12111|       COMPLETE|\n",
      "|       4|2013-07-25 00:00:...|       8827|         CLOSED|\n",
      "|       5|2013-07-25 00:00:...|      11318|       COMPLETE|\n",
      "+--------+--------------------+-----------+---------------+\n",
      "only showing top 5 rows\n",
      "\n"
     ]
    }
   ],
   "source": [
    "order.show(5)"
   ]
  },
  {
   "cell_type": "code",
   "execution_count": 12,
   "id": "eadaa7da",
   "metadata": {},
   "outputs": [],
   "source": [
    "# Alternative To read csv file\n",
    "order_df = spark.read\\\n",
    ".json(\"json_file_path\")"
   ]
  },
  {
   "cell_type": "code",
   "execution_count": 13,
   "id": "14c9a465",
   "metadata": {},
   "outputs": [
    {
     "name": "stdout",
     "output_type": "stream",
     "text": [
      "+-----------+--------------------+--------+---------------+\n",
      "|customer_id|          order_date|order_id|   order_status|\n",
      "+-----------+--------------------+--------+---------------+\n",
      "|      11599|2013-07-25 00:00:...|       1|         CLOSED|\n",
      "|        256|2013-07-25 00:00:...|       2|PENDING_PAYMENT|\n",
      "|      12111|2013-07-25 00:00:...|       3|       COMPLETE|\n",
      "|       8827|2013-07-25 00:00:...|       4|         CLOSED|\n",
      "|      11318|2013-07-25 00:00:...|       5|       COMPLETE|\n",
      "+-----------+--------------------+--------+---------------+\n",
      "only showing top 5 rows\n",
      "\n"
     ]
    }
   ],
   "source": [
    "order_df.show(5)"
   ]
  },
  {
   "cell_type": "code",
   "execution_count": 14,
   "id": "22d8d3fd",
   "metadata": {},
   "outputs": [],
   "source": [
    "order_df.createOrReplaceTempView(\"orders\")"
   ]
  },
  {
   "cell_type": "code",
   "execution_count": 15,
   "id": "3020672d",
   "metadata": {},
   "outputs": [],
   "source": [
    "filtered_orders = spark.sql(\"select * from orders where order_status = 'CLOSED'\")"
   ]
  },
  {
   "cell_type": "code",
   "execution_count": 16,
   "id": "376bfaf6",
   "metadata": {},
   "outputs": [
    {
     "name": "stdout",
     "output_type": "stream",
     "text": [
      "+-----------+--------------------+--------+------------+\n",
      "|customer_id|          order_date|order_id|order_status|\n",
      "+-----------+--------------------+--------+------------+\n",
      "|      11599|2013-07-25 00:00:...|       1|      CLOSED|\n",
      "|       8827|2013-07-25 00:00:...|       4|      CLOSED|\n",
      "|       1837|2013-07-25 00:00:...|      12|      CLOSED|\n",
      "|       1205|2013-07-25 00:00:...|      18|      CLOSED|\n",
      "|      11441|2013-07-25 00:00:...|      24|      CLOSED|\n",
      "+-----------+--------------------+--------+------------+\n",
      "only showing top 5 rows\n",
      "\n"
     ]
    }
   ],
   "source": [
    "filtered_orders.show(5)"
   ]
  },
  {
   "cell_type": "code",
   "execution_count": 17,
   "id": "6d4a2b2b",
   "metadata": {},
   "outputs": [],
   "source": [
    "df1 = spark.read.table(\"orders\")"
   ]
  },
  {
   "cell_type": "code",
   "execution_count": 18,
   "id": "8b80dde8",
   "metadata": {},
   "outputs": [
    {
     "name": "stdout",
     "output_type": "stream",
     "text": [
      "+-----------+--------------------+--------+---------------+\n",
      "|customer_id|          order_date|order_id|   order_status|\n",
      "+-----------+--------------------+--------+---------------+\n",
      "|      11599|2013-07-25 00:00:...|       1|         CLOSED|\n",
      "|        256|2013-07-25 00:00:...|       2|PENDING_PAYMENT|\n",
      "|      12111|2013-07-25 00:00:...|       3|       COMPLETE|\n",
      "|       8827|2013-07-25 00:00:...|       4|         CLOSED|\n",
      "|      11318|2013-07-25 00:00:...|       5|       COMPLETE|\n",
      "|       7130|2013-07-25 00:00:...|       6|       COMPLETE|\n",
      "+-----------+--------------------+--------+---------------+\n",
      "only showing top 6 rows\n",
      "\n"
     ]
    }
   ],
   "source": [
    "df1.show(6)"
   ]
  },
  {
   "cell_type": "code",
   "execution_count": 20,
   "id": "bf9eace6",
   "metadata": {},
   "outputs": [
    {
     "data": {
      "text/html": [
       "<table border='1'>\n",
       "<tr><th></th></tr>\n",
       "</table>\n"
      ],
      "text/plain": [
       "++\n",
       "||\n",
       "++\n",
       "++"
      ]
     },
     "execution_count": 20,
     "metadata": {},
     "output_type": "execute_result"
    }
   ],
   "source": [
    "# spark_sql\n",
    "spark.sql(\"create database if not exists retail\")"
   ]
  },
  {
   "cell_type": "code",
   "execution_count": null,
   "id": "fb3c81ab",
   "metadata": {},
   "outputs": [],
   "source": [
    "spark.sql(\"show databases\").show()"
   ]
  },
  {
   "cell_type": "code",
   "execution_count": null,
   "id": "4faec341",
   "metadata": {},
   "outputs": [],
   "source": [
    "spark.sql(\"show databases\").filter(\"namespace ='retail'\").show()"
   ]
  },
  {
   "cell_type": "code",
   "execution_count": 23,
   "id": "6fa27d24",
   "metadata": {},
   "outputs": [
    {
     "data": {
      "text/html": [
       "<table border='1'>\n",
       "<tr><th></th></tr>\n",
       "</table>\n"
      ],
      "text/plain": [
       "++\n",
       "||\n",
       "++\n",
       "++"
      ]
     },
     "execution_count": 23,
     "metadata": {},
     "output_type": "execute_result"
    }
   ],
   "source": [
    "spark.sql(\"use retail\")"
   ]
  },
  {
   "cell_type": "code",
   "execution_count": null,
   "id": "208829e0",
   "metadata": {},
   "outputs": [],
   "source": [
    "spark.sql(\"show tables\").show()"
   ]
  },
  {
   "cell_type": "code",
   "execution_count": 25,
   "id": "fee539a5",
   "metadata": {},
   "outputs": [
    {
     "data": {
      "text/html": [
       "<table border='1'>\n",
       "<tr><th></th></tr>\n",
       "</table>\n"
      ],
      "text/plain": [
       "++\n",
       "||\n",
       "++\n",
       "++"
      ]
     },
     "execution_count": 25,
     "metadata": {},
     "output_type": "execute_result"
    }
   ],
   "source": [
    "spark.sql(\"create table retail.orders(order_id integer, order_date string, customer_id integer, order_status string)\")"
   ]
  },
  {
   "cell_type": "code",
   "execution_count": null,
   "id": "3129623a",
   "metadata": {},
   "outputs": [],
   "source": [
    "spark.sql(\"use retail\")\n",
    "spark.sql(\"show tables\").show()"
   ]
  },
  {
   "cell_type": "code",
   "execution_count": 27,
   "id": "3113ceee",
   "metadata": {},
   "outputs": [
    {
     "data": {
      "text/html": [
       "<table border='1'>\n",
       "<tr><th></th></tr>\n",
       "</table>\n"
      ],
      "text/plain": [
       "++\n",
       "||\n",
       "++\n",
       "++"
      ]
     },
     "execution_count": 27,
     "metadata": {},
     "output_type": "execute_result"
    }
   ],
   "source": [
    "spark.sql(\"insert into retail.orders select * from orders\")"
   ]
  },
  {
   "cell_type": "code",
   "execution_count": 28,
   "id": "2bf01dc8",
   "metadata": {},
   "outputs": [
    {
     "name": "stdout",
     "output_type": "stream",
     "text": [
      "+--------+--------------------+-----------+---------------+\n",
      "|order_id|          order_date|customer_id|   order_status|\n",
      "+--------+--------------------+-----------+---------------+\n",
      "|   11599|2013-07-25 00:00:...|          1|         CLOSED|\n",
      "|     256|2013-07-25 00:00:...|          2|PENDING_PAYMENT|\n",
      "|   12111|2013-07-25 00:00:...|          3|       COMPLETE|\n",
      "|    8827|2013-07-25 00:00:...|          4|         CLOSED|\n",
      "|   11318|2013-07-25 00:00:...|          5|       COMPLETE|\n",
      "+--------+--------------------+-----------+---------------+\n",
      "\n"
     ]
    }
   ],
   "source": [
    "spark.sql(\"select * from retail.orders limit 5\").show()"
   ]
  },
  {
   "cell_type": "code",
   "execution_count": 44,
   "id": "b973a85d",
   "metadata": {},
   "outputs": [
    {
     "data": {
      "text/html": [
       "<table border='1'>\n",
       "<tr><th></th></tr>\n",
       "</table>\n"
      ],
      "text/plain": [
       "++\n",
       "||\n",
       "++\n",
       "++"
      ]
     },
     "execution_count": 44,
     "metadata": {},
     "output_type": "execute_result"
    }
   ],
   "source": [
    "#external table\n",
    "spark.sql(\"create table retail.orders_external(order_id integer, order_date string, customer_id integer, order_status string) location 'file_path'\")"
   ]
  }
 ],
 "metadata": {
  "kernelspec": {
   "display_name": "Pyspark 3",
   "language": "python",
   "name": "pyspark3"
  },
  "language_info": {
   "codemirror_mode": {
    "name": "ipython",
    "version": 3
   },
   "file_extension": ".py",
   "mimetype": "text/x-python",
   "name": "python",
   "nbconvert_exporter": "python",
   "pygments_lexer": "ipython3",
   "version": "3.6.12"
  }
 },
 "nbformat": 4,
 "nbformat_minor": 5
}
