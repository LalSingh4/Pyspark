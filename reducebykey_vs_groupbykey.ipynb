{
 "cells": [
  {
   "cell_type": "code",
   "execution_count": 1,
   "id": "7a4a9fa8",
   "metadata": {},
   "outputs": [],
   "source": [
    "from pyspark.sql import SparkSession\n",
    "import getpass\n",
    "username=getpass.getuser()\n",
    "spark=SparkSession.\\\n",
    "    builder.\\\n",
    "    config('spark.ui.port','0').\\\n",
    "    config(\"spark.sql.warehouse.dir\",f\"/user/{username}/warehouse\").\\\n",
    "    enableHiveSupport().\\\n",
    "    master('yarn').\\\n",
    "    getOrCreate()"
   ]
  },
  {
   "cell_type": "code",
   "execution_count": 2,
   "id": "6a349754",
   "metadata": {},
   "outputs": [
    {
     "data": {
      "text/html": [
       "\n",
       "            <div>\n",
       "                <p><b>SparkSession - hive</b></p>\n",
       "                \n",
       "        <div>\n",
       "            <p><b>SparkContext</b></p>\n",
       "\n",
       "            <p><a href=\"http://g02.itversity.com:45157\">Spark UI</a></p>\n",
       "\n",
       "            <dl>\n",
       "              <dt>Version</dt>\n",
       "                <dd><code>v3.1.2</code></dd>\n",
       "              <dt>Master</dt>\n",
       "                <dd><code>yarn</code></dd>\n",
       "              <dt>AppName</dt>\n",
       "                <dd><code>pyspark-shell</code></dd>\n",
       "            </dl>\n",
       "        </div>\n",
       "        \n",
       "            </div>\n",
       "        "
      ],
      "text/plain": [
       "<pyspark.sql.session.SparkSession at 0x7f37fbdbc390>"
      ]
     },
     "execution_count": 2,
     "metadata": {},
     "output_type": "execute_result"
    }
   ],
   "source": [
    "spark"
   ]
  },
  {
   "cell_type": "code",
   "execution_count": 4,
   "id": "5edd124b",
   "metadata": {},
   "outputs": [],
   "source": [
    "base_rdd = spark.sparkContext.textFile(\"source_file_path\")"
   ]
  },
  {
   "cell_type": "code",
   "execution_count": 6,
   "id": "0aa2e2b9",
   "metadata": {},
   "outputs": [],
   "source": [
    "mapped_rdd = base_rdd.map(lambda x : (x.split(\",\")[3], 1))"
   ]
  },
  {
   "cell_type": "code",
   "execution_count": 7,
   "id": "cc8c3d73",
   "metadata": {},
   "outputs": [],
   "source": [
    "reduced_rdd = mapped_rdd.reduceByKey(lambda x,y : x+y)"
   ]
  },
  {
   "cell_type": "code",
   "execution_count": 8,
   "id": "9e007625",
   "metadata": {},
   "outputs": [
    {
     "data": {
      "text/plain": [
       "[('PENDING', 9512500),\n",
       " ('PROCESSING', 10343750),\n",
       " ('CANCELED', 1785000),\n",
       " ('COMPLETE', 28623750),\n",
       " ('SUSPECTED_FRAUD', 1947500),\n",
       " ('CLOSED', 9445000),\n",
       " ('ON_HOLD', 4747500),\n",
       " ('PAYMENT_REVIEW', 911250),\n",
       " ('PENDING_PAYMENT', 18787500)]"
      ]
     },
     "execution_count": 8,
     "metadata": {},
     "output_type": "execute_result"
    }
   ],
   "source": [
    "reduced_rdd.collect()"
   ]
  },
  {
   "cell_type": "code",
   "execution_count": null,
   "id": "37f2569c",
   "metadata": {},
   "outputs": [],
   "source": []
  },
  {
   "cell_type": "code",
   "execution_count": 9,
   "id": "1a741c81",
   "metadata": {},
   "outputs": [],
   "source": [
    "# groukbykey example\n",
    "base_rdd = spark.sparkContext.textFile(\"source_file_path\")"
   ]
  },
  {
   "cell_type": "code",
   "execution_count": 11,
   "id": "07e1eb52",
   "metadata": {},
   "outputs": [],
   "source": [
    "mapped_rdd = base_rdd.map(lambda x : (x.split(\",\")[3], x.split(\",\")[2]))"
   ]
  },
  {
   "cell_type": "code",
   "execution_count": 12,
   "id": "4195f6e8",
   "metadata": {},
   "outputs": [
    {
     "data": {
      "text/plain": [
       "[('CLOSED', '11599'), ('PENDING_PAYMENT', '256')]"
      ]
     },
     "execution_count": 12,
     "metadata": {},
     "output_type": "execute_result"
    }
   ],
   "source": [
    "mapped_rdd.take(2)"
   ]
  },
  {
   "cell_type": "code",
   "execution_count": 15,
   "id": "d333a49d",
   "metadata": {},
   "outputs": [],
   "source": [
    "group_rdd = mapped_rdd.groupByKey()"
   ]
  },
  {
   "cell_type": "code",
   "execution_count": 21,
   "id": "213a5dfb",
   "metadata": {},
   "outputs": [],
   "source": [
    "result_rdd = group_rdd.map(lambda x :(x[0] , len(x[1])))"
   ]
  },
  {
   "cell_type": "code",
   "execution_count": 22,
   "id": "0b478562",
   "metadata": {},
   "outputs": [
    {
     "data": {
      "text/plain": [
       "[('PENDING', 9512500),\n",
       " ('PROCESSING', 10343750),\n",
       " ('CANCELED', 1785000),\n",
       " ('COMPLETE', 28623750),\n",
       " ('SUSPECTED_FRAUD', 1947500),\n",
       " ('CLOSED', 9445000),\n",
       " ('ON_HOLD', 4747500),\n",
       " ('PAYMENT_REVIEW', 911250),\n",
       " ('PENDING_PAYMENT', 18787500)]"
      ]
     },
     "execution_count": 22,
     "metadata": {},
     "output_type": "execute_result"
    }
   ],
   "source": [
    "result_rdd.collect()"
   ]
  },
  {
   "cell_type": "code",
   "execution_count": null,
   "id": "5dd4954c",
   "metadata": {},
   "outputs": [],
   "source": []
  }
 ],
 "metadata": {
  "kernelspec": {
   "display_name": "Pyspark 3",
   "language": "python",
   "name": "pyspark3"
  },
  "language_info": {
   "codemirror_mode": {
    "name": "ipython",
    "version": 3
   },
   "file_extension": ".py",
   "mimetype": "text/x-python",
   "name": "python",
   "nbconvert_exporter": "python",
   "pygments_lexer": "ipython3",
   "version": "3.6.12"
  }
 },
 "nbformat": 4,
 "nbformat_minor": 5
}
